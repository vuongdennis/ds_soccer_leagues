{
 "cells": [
  {
   "cell_type": "markdown",
   "metadata": {},
   "source": [
    "# Data for multiple soccer leagues"
   ]
  },
  {
   "cell_type": "markdown",
   "metadata": {},
   "source": [
    "## Statistics for LaLiga (Spanish League)"
   ]
  },
  {
   "cell_type": "code",
   "execution_count": 1,
   "metadata": {},
   "outputs": [],
   "source": [
    "%matplotlib inline\n",
    "import matplotlib.pyplot as plt\n",
    "import pandas as pd\n",
    "import requests\n",
    "import numpy as np\n",
    "from sklearn.linear_model import LinearRegression\n",
    "\n",
    "response = requests.get(\"https://www.statbunker.com/competitions/PlayerStandings?comp_id=622\")"
   ]
  },
  {
   "cell_type": "code",
   "execution_count": 2,
   "metadata": {},
   "outputs": [],
   "source": [
    "from bs4 import BeautifulSoup\n",
    "soup = BeautifulSoup(response.content, \"html.parser\")"
   ]
  },
  {
   "cell_type": "markdown",
   "metadata": {},
   "source": [
    "#### Web scraping for LaLiga data and cleaning"
   ]
  },
  {
   "cell_type": "markdown",
   "metadata": {},
   "source": [
    "Here we are gathering the data for all players (except goalkeepers) in the league by web scraping the webpage (https://www.statbunker.com/competitions/PlayerStandings?comp_id=622):"
   ]
  },
  {
   "cell_type": "code",
   "execution_count": 3,
   "metadata": {},
   "outputs": [],
   "source": [
    "laliga = []\n",
    "items = soup.findAll(\"tr\", {\"class\": [\"Forward\", \"Midfielder\", \"Defender\"]})\n",
    "\n",
    "for players in items:\n",
    "    name = players.find(\"td\", \"mob tdInline\").contents[0]\n",
    "    team = players.find(\"td\", \"nonMob\").contents[0]\n",
    "    pos = players.find(\"td\", \"nonMob\").find_next(\"td\").contents[0]\n",
    "    appear = players.find(\"td\", \"nonMob\").find_next(\"td\").find_next(\"td\").contents[0]\n",
    "    goals = players.find(\"td\", {\"title\": \"Goals\"}).contents[0]\n",
    "    assists = players.find(\"td\", {\"title\": \"Assists\"}).contents[0]\n",
    "    yellow = players.find(\"td\", {\"title\": \"Yellow\"}).contents[0]\n",
    "    yellow_red = players.find(\"td\", {\"title\": \"Yellow-Red\"}).contents[0]\n",
    "    red = players.find(\"td\", {\"title\": \"Red\"}).contents[0]\n",
    "\n",
    "    laliga.append({\n",
    "        \"Name\": name,\n",
    "        \"Team\": team,\n",
    "        \"Position\": pos,\n",
    "        \"Appearances\": appear,\n",
    "        \"Goals\": goals,\n",
    "        \"Assists\": assists,\n",
    "        \"Yellow\": yellow,\n",
    "        \"Yellow-Red\": yellow_red,\n",
    "        \"Red\": red,\n",
    "        \"League\": \"Laliga\"\n",
    "    }) \n",
    "    "
   ]
  },
  {
   "cell_type": "markdown",
   "metadata": {},
   "source": [
    "Once the data is gathered, we created a data frame to visualize the data. This will make reading the data easier because the data will be put in a table format. "
   ]
  },
  {
   "cell_type": "code",
   "execution_count": 4,
   "metadata": {},
   "outputs": [
    {
     "data": {
      "text/html": [
       "<div>\n",
       "<style scoped>\n",
       "    .dataframe tbody tr th:only-of-type {\n",
       "        vertical-align: middle;\n",
       "    }\n",
       "\n",
       "    .dataframe tbody tr th {\n",
       "        vertical-align: top;\n",
       "    }\n",
       "\n",
       "    .dataframe thead th {\n",
       "        text-align: right;\n",
       "    }\n",
       "</style>\n",
       "<table border=\"1\" class=\"dataframe\">\n",
       "  <thead>\n",
       "    <tr style=\"text-align: right;\">\n",
       "      <th></th>\n",
       "      <th>Name</th>\n",
       "      <th>Team</th>\n",
       "      <th>Position</th>\n",
       "      <th>Appearances</th>\n",
       "      <th>Goals</th>\n",
       "      <th>Assists</th>\n",
       "      <th>Yellow</th>\n",
       "      <th>Yellow-Red</th>\n",
       "      <th>Red</th>\n",
       "      <th>League</th>\n",
       "    </tr>\n",
       "  </thead>\n",
       "  <tbody>\n",
       "    <tr>\n",
       "      <th>0</th>\n",
       "      <td>Inaki Williams</td>\n",
       "      <td>Athletic Bilbao</td>\n",
       "      <td>Forward</td>\n",
       "      <td>38</td>\n",
       "      <td>12</td>\n",
       "      <td>4</td>\n",
       "      <td>3</td>\n",
       "      <td>0</td>\n",
       "      <td>0</td>\n",
       "      <td>Laliga</td>\n",
       "    </tr>\n",
       "    <tr>\n",
       "      <th>1</th>\n",
       "      <td>Jorge Molina</td>\n",
       "      <td>Getafe</td>\n",
       "      <td>Forward</td>\n",
       "      <td>38</td>\n",
       "      <td>14</td>\n",
       "      <td>5</td>\n",
       "      <td>2</td>\n",
       "      <td>0</td>\n",
       "      <td>0</td>\n",
       "      <td>Laliga</td>\n",
       "    </tr>\n",
       "    <tr>\n",
       "      <th>2</th>\n",
       "      <td>Antoine Griezmann</td>\n",
       "      <td>Atletico Madrid</td>\n",
       "      <td>Forward</td>\n",
       "      <td>37</td>\n",
       "      <td>15</td>\n",
       "      <td>8</td>\n",
       "      <td>5</td>\n",
       "      <td>0</td>\n",
       "      <td>0</td>\n",
       "      <td>Laliga</td>\n",
       "    </tr>\n",
       "    <tr>\n",
       "      <th>3</th>\n",
       "      <td>Mikel Oyarzabal</td>\n",
       "      <td>Real Sociedad</td>\n",
       "      <td>Midfielder</td>\n",
       "      <td>37</td>\n",
       "      <td>13</td>\n",
       "      <td>2</td>\n",
       "      <td>2</td>\n",
       "      <td>0</td>\n",
       "      <td>0</td>\n",
       "      <td>Laliga</td>\n",
       "    </tr>\n",
       "    <tr>\n",
       "      <th>4</th>\n",
       "      <td>Borja Iglesias</td>\n",
       "      <td>Espanyol</td>\n",
       "      <td>Defender</td>\n",
       "      <td>37</td>\n",
       "      <td>17</td>\n",
       "      <td>3</td>\n",
       "      <td>5</td>\n",
       "      <td>0</td>\n",
       "      <td>0</td>\n",
       "      <td>Laliga</td>\n",
       "    </tr>\n",
       "    <tr>\n",
       "      <th>...</th>\n",
       "      <td>...</td>\n",
       "      <td>...</td>\n",
       "      <td>...</td>\n",
       "      <td>...</td>\n",
       "      <td>...</td>\n",
       "      <td>...</td>\n",
       "      <td>...</td>\n",
       "      <td>...</td>\n",
       "      <td>...</td>\n",
       "      <td>...</td>\n",
       "    </tr>\n",
       "    <tr>\n",
       "      <th>524</th>\n",
       "      <td>Gustavo Assuncao</td>\n",
       "      <td>Atletico Madrid</td>\n",
       "      <td>Midfielder</td>\n",
       "      <td>0</td>\n",
       "      <td>0</td>\n",
       "      <td>0</td>\n",
       "      <td>0</td>\n",
       "      <td>0</td>\n",
       "      <td>0</td>\n",
       "      <td>Laliga</td>\n",
       "    </tr>\n",
       "    <tr>\n",
       "      <th>525</th>\n",
       "      <td>Cristian Rodriguez</td>\n",
       "      <td>Atletico Madrid</td>\n",
       "      <td>Midfielder</td>\n",
       "      <td>0</td>\n",
       "      <td>0</td>\n",
       "      <td>0</td>\n",
       "      <td>0</td>\n",
       "      <td>0</td>\n",
       "      <td>0</td>\n",
       "      <td>Laliga</td>\n",
       "    </tr>\n",
       "    <tr>\n",
       "      <th>526</th>\n",
       "      <td>Juan Miranda</td>\n",
       "      <td>Barcelona</td>\n",
       "      <td>Defender</td>\n",
       "      <td>0</td>\n",
       "      <td>0</td>\n",
       "      <td>0</td>\n",
       "      <td>0</td>\n",
       "      <td>0</td>\n",
       "      <td>0</td>\n",
       "      <td>Laliga</td>\n",
       "    </tr>\n",
       "    <tr>\n",
       "      <th>527</th>\n",
       "      <td>Robert Gonzalez</td>\n",
       "      <td>Real Betis</td>\n",
       "      <td>Midfielder</td>\n",
       "      <td>0</td>\n",
       "      <td>0</td>\n",
       "      <td>0</td>\n",
       "      <td>0</td>\n",
       "      <td>0</td>\n",
       "      <td>0</td>\n",
       "      <td>Laliga</td>\n",
       "    </tr>\n",
       "    <tr>\n",
       "      <th>528</th>\n",
       "      <td>Pepe Castano</td>\n",
       "      <td>Villarreal</td>\n",
       "      <td>Defender</td>\n",
       "      <td>0</td>\n",
       "      <td>0</td>\n",
       "      <td>0</td>\n",
       "      <td>0</td>\n",
       "      <td>0</td>\n",
       "      <td>0</td>\n",
       "      <td>Laliga</td>\n",
       "    </tr>\n",
       "  </tbody>\n",
       "</table>\n",
       "<p>529 rows × 10 columns</p>\n",
       "</div>"
      ],
      "text/plain": [
       "                   Name             Team    Position Appearances Goals  \\\n",
       "0        Inaki Williams  Athletic Bilbao     Forward          38    12   \n",
       "1          Jorge Molina           Getafe     Forward          38    14   \n",
       "2     Antoine Griezmann  Atletico Madrid     Forward          37    15   \n",
       "3       Mikel Oyarzabal    Real Sociedad  Midfielder          37    13   \n",
       "4        Borja Iglesias         Espanyol    Defender          37    17   \n",
       "..                  ...              ...         ...         ...   ...   \n",
       "524    Gustavo Assuncao  Atletico Madrid  Midfielder           0     0   \n",
       "525  Cristian Rodriguez  Atletico Madrid  Midfielder           0     0   \n",
       "526        Juan Miranda        Barcelona    Defender           0     0   \n",
       "527     Robert Gonzalez       Real Betis  Midfielder           0     0   \n",
       "528        Pepe Castano       Villarreal    Defender           0     0   \n",
       "\n",
       "    Assists Yellow Yellow-Red Red  League  \n",
       "0         4      3          0   0  Laliga  \n",
       "1         5      2          0   0  Laliga  \n",
       "2         8      5          0   0  Laliga  \n",
       "3         2      2          0   0  Laliga  \n",
       "4         3      5          0   0  Laliga  \n",
       "..      ...    ...        ...  ..     ...  \n",
       "524       0      0          0   0  Laliga  \n",
       "525       0      0          0   0  Laliga  \n",
       "526       0      0          0   0  Laliga  \n",
       "527       0      0          0   0  Laliga  \n",
       "528       0      0          0   0  Laliga  \n",
       "\n",
       "[529 rows x 10 columns]"
      ]
     },
     "execution_count": 4,
     "metadata": {},
     "output_type": "execute_result"
    }
   ],
   "source": [
    "df_laliga = pd.DataFrame(laliga)\n",
    "df_laliga"
   ]
  },
  {
   "cell_type": "markdown",
   "metadata": {},
   "source": [
    "Once the data is placed into a data frame we cleaned the data by changing the data type of certain columns. We also use the describe() command to gather interesting information about our data like the mean, standard deviaiton, min, max, and quantiles."
   ]
  },
  {
   "cell_type": "code",
   "execution_count": 5,
   "metadata": {},
   "outputs": [
    {
     "data": {
      "text/html": [
       "<div>\n",
       "<style scoped>\n",
       "    .dataframe tbody tr th:only-of-type {\n",
       "        vertical-align: middle;\n",
       "    }\n",
       "\n",
       "    .dataframe tbody tr th {\n",
       "        vertical-align: top;\n",
       "    }\n",
       "\n",
       "    .dataframe thead th {\n",
       "        text-align: right;\n",
       "    }\n",
       "</style>\n",
       "<table border=\"1\" class=\"dataframe\">\n",
       "  <thead>\n",
       "    <tr style=\"text-align: right;\">\n",
       "      <th></th>\n",
       "      <th>Appearances</th>\n",
       "      <th>Goals</th>\n",
       "      <th>Assists</th>\n",
       "      <th>Yellow</th>\n",
       "      <th>Yellow-Red</th>\n",
       "      <th>Red</th>\n",
       "    </tr>\n",
       "  </thead>\n",
       "  <tbody>\n",
       "    <tr>\n",
       "      <th>count</th>\n",
       "      <td>529.000000</td>\n",
       "      <td>529.000000</td>\n",
       "      <td>529.000000</td>\n",
       "      <td>529.000000</td>\n",
       "      <td>529.000000</td>\n",
       "      <td>529.000000</td>\n",
       "    </tr>\n",
       "    <tr>\n",
       "      <th>mean</th>\n",
       "      <td>18.555766</td>\n",
       "      <td>1.805293</td>\n",
       "      <td>1.211720</td>\n",
       "      <td>3.517958</td>\n",
       "      <td>0.088847</td>\n",
       "      <td>0.058601</td>\n",
       "    </tr>\n",
       "    <tr>\n",
       "      <th>std</th>\n",
       "      <td>12.108459</td>\n",
       "      <td>3.568312</td>\n",
       "      <td>1.913017</td>\n",
       "      <td>3.411234</td>\n",
       "      <td>0.316300</td>\n",
       "      <td>0.250694</td>\n",
       "    </tr>\n",
       "    <tr>\n",
       "      <th>min</th>\n",
       "      <td>0.000000</td>\n",
       "      <td>0.000000</td>\n",
       "      <td>0.000000</td>\n",
       "      <td>0.000000</td>\n",
       "      <td>0.000000</td>\n",
       "      <td>0.000000</td>\n",
       "    </tr>\n",
       "    <tr>\n",
       "      <th>25%</th>\n",
       "      <td>7.000000</td>\n",
       "      <td>0.000000</td>\n",
       "      <td>0.000000</td>\n",
       "      <td>1.000000</td>\n",
       "      <td>0.000000</td>\n",
       "      <td>0.000000</td>\n",
       "    </tr>\n",
       "    <tr>\n",
       "      <th>50%</th>\n",
       "      <td>20.000000</td>\n",
       "      <td>1.000000</td>\n",
       "      <td>0.000000</td>\n",
       "      <td>3.000000</td>\n",
       "      <td>0.000000</td>\n",
       "      <td>0.000000</td>\n",
       "    </tr>\n",
       "    <tr>\n",
       "      <th>75%</th>\n",
       "      <td>30.000000</td>\n",
       "      <td>2.000000</td>\n",
       "      <td>2.000000</td>\n",
       "      <td>5.000000</td>\n",
       "      <td>0.000000</td>\n",
       "      <td>0.000000</td>\n",
       "    </tr>\n",
       "    <tr>\n",
       "      <th>max</th>\n",
       "      <td>38.000000</td>\n",
       "      <td>36.000000</td>\n",
       "      <td>13.000000</td>\n",
       "      <td>16.000000</td>\n",
       "      <td>2.000000</td>\n",
       "      <td>2.000000</td>\n",
       "    </tr>\n",
       "  </tbody>\n",
       "</table>\n",
       "</div>"
      ],
      "text/plain": [
       "       Appearances       Goals     Assists      Yellow  Yellow-Red         Red\n",
       "count   529.000000  529.000000  529.000000  529.000000  529.000000  529.000000\n",
       "mean     18.555766    1.805293    1.211720    3.517958    0.088847    0.058601\n",
       "std      12.108459    3.568312    1.913017    3.411234    0.316300    0.250694\n",
       "min       0.000000    0.000000    0.000000    0.000000    0.000000    0.000000\n",
       "25%       7.000000    0.000000    0.000000    1.000000    0.000000    0.000000\n",
       "50%      20.000000    1.000000    0.000000    3.000000    0.000000    0.000000\n",
       "75%      30.000000    2.000000    2.000000    5.000000    0.000000    0.000000\n",
       "max      38.000000   36.000000   13.000000   16.000000    2.000000    2.000000"
      ]
     },
     "execution_count": 5,
     "metadata": {},
     "output_type": "execute_result"
    }
   ],
   "source": [
    "df_laliga.Appearances = df_laliga.Appearances.astype(float)\n",
    "df_laliga.Goals = df_laliga.Goals.astype(float)\n",
    "df_laliga.Assists = df_laliga.Assists.astype(float)\n",
    "df_laliga.Yellow = df_laliga.Yellow.astype(float)\n",
    "df_laliga[\"Yellow-Red\"] = df_laliga[\"Yellow-Red\"].astype(float)\n",
    "df_laliga.Red = df_laliga.Red.astype(float)\n",
    "df_laliga.describe()"
   ]
  },
  {
   "cell_type": "markdown",
   "metadata": {},
   "source": [
    "After cleaning the data and gathering some information we repeated the same process for 4 other leagues (MLS, Premier, Serie A, and Bundesliga)."
   ]
  },
  {
   "cell_type": "markdown",
   "metadata": {},
   "source": [
    "## Statistics for MLS League (US League)"
   ]
  },
  {
   "cell_type": "code",
   "execution_count": 6,
   "metadata": {},
   "outputs": [],
   "source": [
    "response = requests.get(\"https://www.statbunker.com/competitions/PlayerStandings?comp_id=632\")\n",
    "soup = BeautifulSoup(response.content, \"html.parser\")"
   ]
  },
  {
   "cell_type": "markdown",
   "metadata": {},
   "source": [
    "##### Web Scraping for MLS League Data"
   ]
  },
  {
   "cell_type": "code",
   "execution_count": 7,
   "metadata": {},
   "outputs": [],
   "source": [
    "mls = []\n",
    "items = soup.findAll(\"tr\", {\"class\": [\"Forward\", \"Defender\", \"Midfielder\"]})\n",
    "\n",
    "for players in items:\n",
    "    name = players.find(\"td\", \"mob tdInline\").contents[0]\n",
    "    team = players.find(\"td\", \"nonMob\").contents[0]\n",
    "    pos = players.find(\"td\", \"nonMob\").find_next(\"td\").contents[0]\n",
    "    appear = players.find(\"td\", \"nonMob\").find_next(\"td\").find_next(\"td\").contents[0]\n",
    "    goals = players.find(\"td\", {\"title\": \"Goals\"}).contents[0]\n",
    "    assists = players.find(\"td\", {\"title\": \"Assists\"}).contents[0]\n",
    "    yellow = players.find(\"td\", {\"title\": \"Yellow\"}).contents[0]\n",
    "    yellow_red = players.find(\"td\", {\"title\": \"Yellow-Red\"}).contents[0]\n",
    "    red = players.find(\"td\", {\"title\": \"Red\"}).contents[0]\n",
    "\n",
    "    mls.append({\n",
    "        \"Name\": name,\n",
    "        \"Team\": team,\n",
    "        \"Position\": pos,\n",
    "        \"Appearances\": appear,\n",
    "        \"Goals\": goals,\n",
    "        \"Assists\": assists,\n",
    "        \"Yellow\": yellow,\n",
    "        \"Yellow-Red\": yellow_red,\n",
    "        \"Red\": red,\n",
    "        \"League\": \"MLS\"\n",
    "    }) \n",
    "    "
   ]
  },
  {
   "cell_type": "code",
   "execution_count": 8,
   "metadata": {},
   "outputs": [
    {
     "data": {
      "text/html": [
       "<div>\n",
       "<style scoped>\n",
       "    .dataframe tbody tr th:only-of-type {\n",
       "        vertical-align: middle;\n",
       "    }\n",
       "\n",
       "    .dataframe tbody tr th {\n",
       "        vertical-align: top;\n",
       "    }\n",
       "\n",
       "    .dataframe thead th {\n",
       "        text-align: right;\n",
       "    }\n",
       "</style>\n",
       "<table border=\"1\" class=\"dataframe\">\n",
       "  <thead>\n",
       "    <tr style=\"text-align: right;\">\n",
       "      <th></th>\n",
       "      <th>Name</th>\n",
       "      <th>Team</th>\n",
       "      <th>Position</th>\n",
       "      <th>Appearances</th>\n",
       "      <th>Goals</th>\n",
       "      <th>Assists</th>\n",
       "      <th>Yellow</th>\n",
       "      <th>Yellow-Red</th>\n",
       "      <th>Red</th>\n",
       "      <th>League</th>\n",
       "    </tr>\n",
       "  </thead>\n",
       "  <tbody>\n",
       "    <tr>\n",
       "      <th>0</th>\n",
       "      <td>Carles Gil</td>\n",
       "      <td>New England Revolution</td>\n",
       "      <td>Midfielder</td>\n",
       "      <td>34</td>\n",
       "      <td>10</td>\n",
       "      <td>12</td>\n",
       "      <td>5</td>\n",
       "      <td>0</td>\n",
       "      <td>0</td>\n",
       "      <td>MLS</td>\n",
       "    </tr>\n",
       "    <tr>\n",
       "      <th>1</th>\n",
       "      <td>Jack Elliott</td>\n",
       "      <td>Philadelphia Union</td>\n",
       "      <td>Defender</td>\n",
       "      <td>34</td>\n",
       "      <td>2</td>\n",
       "      <td>0</td>\n",
       "      <td>4</td>\n",
       "      <td>0</td>\n",
       "      <td>0</td>\n",
       "      <td>MLS</td>\n",
       "    </tr>\n",
       "    <tr>\n",
       "      <th>2</th>\n",
       "      <td>Haris Medunjanin</td>\n",
       "      <td>Philadelphia Union</td>\n",
       "      <td>Midfielder</td>\n",
       "      <td>34</td>\n",
       "      <td>1</td>\n",
       "      <td>4</td>\n",
       "      <td>6</td>\n",
       "      <td>0</td>\n",
       "      <td>0</td>\n",
       "      <td>MLS</td>\n",
       "    </tr>\n",
       "    <tr>\n",
       "      <th>3</th>\n",
       "      <td>Keegan Rosenberry</td>\n",
       "      <td>Colorado Rapids</td>\n",
       "      <td>Defender</td>\n",
       "      <td>34</td>\n",
       "      <td>1</td>\n",
       "      <td>3</td>\n",
       "      <td>3</td>\n",
       "      <td>0</td>\n",
       "      <td>0</td>\n",
       "      <td>MLS</td>\n",
       "    </tr>\n",
       "    <tr>\n",
       "      <th>4</th>\n",
       "      <td>Steve Birnbaum</td>\n",
       "      <td>DC United</td>\n",
       "      <td>Defender</td>\n",
       "      <td>34</td>\n",
       "      <td>1</td>\n",
       "      <td>0</td>\n",
       "      <td>5</td>\n",
       "      <td>0</td>\n",
       "      <td>0</td>\n",
       "      <td>MLS</td>\n",
       "    </tr>\n",
       "    <tr>\n",
       "      <th>...</th>\n",
       "      <td>...</td>\n",
       "      <td>...</td>\n",
       "      <td>...</td>\n",
       "      <td>...</td>\n",
       "      <td>...</td>\n",
       "      <td>...</td>\n",
       "      <td>...</td>\n",
       "      <td>...</td>\n",
       "      <td>...</td>\n",
       "      <td>...</td>\n",
       "    </tr>\n",
       "    <tr>\n",
       "      <th>605</th>\n",
       "      <td>Samuel Junqua</td>\n",
       "      <td>Houston Dynamo</td>\n",
       "      <td>Defender</td>\n",
       "      <td>0</td>\n",
       "      <td>0</td>\n",
       "      <td>0</td>\n",
       "      <td>0</td>\n",
       "      <td>0</td>\n",
       "      <td>0</td>\n",
       "      <td>MLS</td>\n",
       "    </tr>\n",
       "    <tr>\n",
       "      <th>606</th>\n",
       "      <td>Matthew Hundley</td>\n",
       "      <td>Colorado Rapids</td>\n",
       "      <td>Forward</td>\n",
       "      <td>0</td>\n",
       "      <td>0</td>\n",
       "      <td>0</td>\n",
       "      <td>0</td>\n",
       "      <td>0</td>\n",
       "      <td>0</td>\n",
       "      <td>MLS</td>\n",
       "    </tr>\n",
       "    <tr>\n",
       "      <th>607</th>\n",
       "      <td>Adam Henley</td>\n",
       "      <td>Real Salt Lake</td>\n",
       "      <td>Defender</td>\n",
       "      <td>0</td>\n",
       "      <td>0</td>\n",
       "      <td>0</td>\n",
       "      <td>0</td>\n",
       "      <td>0</td>\n",
       "      <td>0</td>\n",
       "      <td>MLS</td>\n",
       "    </tr>\n",
       "    <tr>\n",
       "      <th>608</th>\n",
       "      <td>Wyatt Omsberg</td>\n",
       "      <td>Minnesota United</td>\n",
       "      <td>Midfielder</td>\n",
       "      <td>0</td>\n",
       "      <td>0</td>\n",
       "      <td>0</td>\n",
       "      <td>0</td>\n",
       "      <td>0</td>\n",
       "      <td>0</td>\n",
       "      <td>MLS</td>\n",
       "    </tr>\n",
       "    <tr>\n",
       "      <th>609</th>\n",
       "      <td>Jon Gallagher</td>\n",
       "      <td>Atlanta United</td>\n",
       "      <td>Forward</td>\n",
       "      <td>0</td>\n",
       "      <td>0</td>\n",
       "      <td>0</td>\n",
       "      <td>0</td>\n",
       "      <td>0</td>\n",
       "      <td>0</td>\n",
       "      <td>MLS</td>\n",
       "    </tr>\n",
       "  </tbody>\n",
       "</table>\n",
       "<p>610 rows × 10 columns</p>\n",
       "</div>"
      ],
      "text/plain": [
       "                  Name                    Team    Position Appearances Goals  \\\n",
       "0           Carles Gil  New England Revolution  Midfielder          34    10   \n",
       "1         Jack Elliott      Philadelphia Union    Defender          34     2   \n",
       "2     Haris Medunjanin      Philadelphia Union  Midfielder          34     1   \n",
       "3    Keegan Rosenberry         Colorado Rapids    Defender          34     1   \n",
       "4       Steve Birnbaum               DC United    Defender          34     1   \n",
       "..                 ...                     ...         ...         ...   ...   \n",
       "605      Samuel Junqua          Houston Dynamo    Defender           0     0   \n",
       "606    Matthew Hundley         Colorado Rapids     Forward           0     0   \n",
       "607        Adam Henley          Real Salt Lake    Defender           0     0   \n",
       "608      Wyatt Omsberg        Minnesota United  Midfielder           0     0   \n",
       "609      Jon Gallagher          Atlanta United     Forward           0     0   \n",
       "\n",
       "    Assists Yellow Yellow-Red Red League  \n",
       "0        12      5          0   0    MLS  \n",
       "1         0      4          0   0    MLS  \n",
       "2         4      6          0   0    MLS  \n",
       "3         3      3          0   0    MLS  \n",
       "4         0      5          0   0    MLS  \n",
       "..      ...    ...        ...  ..    ...  \n",
       "605       0      0          0   0    MLS  \n",
       "606       0      0          0   0    MLS  \n",
       "607       0      0          0   0    MLS  \n",
       "608       0      0          0   0    MLS  \n",
       "609       0      0          0   0    MLS  \n",
       "\n",
       "[610 rows x 10 columns]"
      ]
     },
     "execution_count": 8,
     "metadata": {},
     "output_type": "execute_result"
    }
   ],
   "source": [
    "df_mls = pd.DataFrame(mls)\n",
    "df_mls"
   ]
  },
  {
   "cell_type": "code",
   "execution_count": 9,
   "metadata": {},
   "outputs": [
    {
     "data": {
      "text/html": [
       "<div>\n",
       "<style scoped>\n",
       "    .dataframe tbody tr th:only-of-type {\n",
       "        vertical-align: middle;\n",
       "    }\n",
       "\n",
       "    .dataframe tbody tr th {\n",
       "        vertical-align: top;\n",
       "    }\n",
       "\n",
       "    .dataframe thead th {\n",
       "        text-align: right;\n",
       "    }\n",
       "</style>\n",
       "<table border=\"1\" class=\"dataframe\">\n",
       "  <thead>\n",
       "    <tr style=\"text-align: right;\">\n",
       "      <th></th>\n",
       "      <th>Appearances</th>\n",
       "      <th>Goals</th>\n",
       "      <th>Assists</th>\n",
       "      <th>Yellow</th>\n",
       "      <th>Yellow-Red</th>\n",
       "      <th>Red</th>\n",
       "    </tr>\n",
       "  </thead>\n",
       "  <tbody>\n",
       "    <tr>\n",
       "      <th>count</th>\n",
       "      <td>610.000000</td>\n",
       "      <td>610.000000</td>\n",
       "      <td>610.000000</td>\n",
       "      <td>610.000000</td>\n",
       "      <td>610.000000</td>\n",
       "      <td>610.000000</td>\n",
       "    </tr>\n",
       "    <tr>\n",
       "      <th>mean</th>\n",
       "      <td>17.104918</td>\n",
       "      <td>1.972131</td>\n",
       "      <td>1.368852</td>\n",
       "      <td>2.354098</td>\n",
       "      <td>0.040984</td>\n",
       "      <td>0.100000</td>\n",
       "    </tr>\n",
       "    <tr>\n",
       "      <th>std</th>\n",
       "      <td>10.613163</td>\n",
       "      <td>3.613632</td>\n",
       "      <td>2.111042</td>\n",
       "      <td>2.517432</td>\n",
       "      <td>0.214328</td>\n",
       "      <td>0.316228</td>\n",
       "    </tr>\n",
       "    <tr>\n",
       "      <th>min</th>\n",
       "      <td>0.000000</td>\n",
       "      <td>0.000000</td>\n",
       "      <td>0.000000</td>\n",
       "      <td>0.000000</td>\n",
       "      <td>0.000000</td>\n",
       "      <td>0.000000</td>\n",
       "    </tr>\n",
       "    <tr>\n",
       "      <th>25%</th>\n",
       "      <td>8.000000</td>\n",
       "      <td>0.000000</td>\n",
       "      <td>0.000000</td>\n",
       "      <td>0.000000</td>\n",
       "      <td>0.000000</td>\n",
       "      <td>0.000000</td>\n",
       "    </tr>\n",
       "    <tr>\n",
       "      <th>50%</th>\n",
       "      <td>17.500000</td>\n",
       "      <td>0.000000</td>\n",
       "      <td>1.000000</td>\n",
       "      <td>2.000000</td>\n",
       "      <td>0.000000</td>\n",
       "      <td>0.000000</td>\n",
       "    </tr>\n",
       "    <tr>\n",
       "      <th>75%</th>\n",
       "      <td>27.000000</td>\n",
       "      <td>2.000000</td>\n",
       "      <td>2.000000</td>\n",
       "      <td>4.000000</td>\n",
       "      <td>0.000000</td>\n",
       "      <td>0.000000</td>\n",
       "    </tr>\n",
       "    <tr>\n",
       "      <th>max</th>\n",
       "      <td>34.000000</td>\n",
       "      <td>34.000000</td>\n",
       "      <td>13.000000</td>\n",
       "      <td>12.000000</td>\n",
       "      <td>2.000000</td>\n",
       "      <td>2.000000</td>\n",
       "    </tr>\n",
       "  </tbody>\n",
       "</table>\n",
       "</div>"
      ],
      "text/plain": [
       "       Appearances       Goals     Assists      Yellow  Yellow-Red         Red\n",
       "count   610.000000  610.000000  610.000000  610.000000  610.000000  610.000000\n",
       "mean     17.104918    1.972131    1.368852    2.354098    0.040984    0.100000\n",
       "std      10.613163    3.613632    2.111042    2.517432    0.214328    0.316228\n",
       "min       0.000000    0.000000    0.000000    0.000000    0.000000    0.000000\n",
       "25%       8.000000    0.000000    0.000000    0.000000    0.000000    0.000000\n",
       "50%      17.500000    0.000000    1.000000    2.000000    0.000000    0.000000\n",
       "75%      27.000000    2.000000    2.000000    4.000000    0.000000    0.000000\n",
       "max      34.000000   34.000000   13.000000   12.000000    2.000000    2.000000"
      ]
     },
     "execution_count": 9,
     "metadata": {},
     "output_type": "execute_result"
    }
   ],
   "source": [
    "df_mls.Appearances = df_mls.Appearances.astype(float)\n",
    "df_mls.Goals = df_mls.Goals.astype(float)\n",
    "df_mls.Assists = df_mls.Assists.astype(float)\n",
    "df_mls.Yellow = df_mls.Yellow.astype(float)\n",
    "df_mls[\"Yellow-Red\"] = df_mls[\"Yellow-Red\"].astype(float)\n",
    "df_mls.Red = df_mls.Red.astype(float)\n",
    "df_mls.describe()"
   ]
  },
  {
   "cell_type": "markdown",
   "metadata": {},
   "source": [
    "## Statistics for Premier League (English League)"
   ]
  },
  {
   "cell_type": "code",
   "execution_count": 10,
   "metadata": {},
   "outputs": [],
   "source": [
    "response = requests.get(\"https://www.statbunker.com/competitions/PlayerStandings?comp_id=614\")\n",
    "soup = BeautifulSoup(response.content, \"html.parser\")"
   ]
  },
  {
   "cell_type": "code",
   "execution_count": 11,
   "metadata": {},
   "outputs": [],
   "source": [
    "premier = []\n",
    "items = soup.findAll(\"tr\", {\"class\": [\"Forward\", \"Defender\", \"Midfielder\"]})\n",
    "\n",
    "for players in items:\n",
    "    name = players.find(\"td\", \"mob tdInline\").contents[0]\n",
    "    team = players.find(\"td\", \"nonMob\").contents[0]\n",
    "    pos = players.find(\"td\", \"nonMob\").find_next(\"td\").contents[0]\n",
    "    appear = players.find(\"td\", \"nonMob\").find_next(\"td\").find_next(\"td\").contents[0]\n",
    "    goals = players.find(\"td\", {\"title\": \"Goals\"}).contents[0]\n",
    "    assists = players.find(\"td\", {\"title\": \"Assists\"}).contents[0]\n",
    "    yellow = players.find(\"td\", {\"title\": \"Yellow\"}).contents[0]\n",
    "    yellow_red = players.find(\"td\", {\"title\": \"Yellow-Red\"}).contents[0]\n",
    "    red = players.find(\"td\", {\"title\": \"Red\"}).contents[0]\n",
    "\n",
    "    premier.append({\n",
    "        \"Name\": name,\n",
    "        \"Team\": team,\n",
    "        \"Position\": pos,\n",
    "        \"Appearances\": appear,\n",
    "        \"Goals\": goals,\n",
    "        \"Assists\": assists,\n",
    "        \"Yellow\": yellow,\n",
    "        \"Yellow-Red\": yellow_red,\n",
    "        \"Red\": red,\n",
    "        \"League\": \"Premier\"\n",
    "    }) \n",
    "    "
   ]
  },
  {
   "cell_type": "code",
   "execution_count": 12,
   "metadata": {},
   "outputs": [
    {
     "data": {
      "text/html": [
       "<div>\n",
       "<style scoped>\n",
       "    .dataframe tbody tr th:only-of-type {\n",
       "        vertical-align: middle;\n",
       "    }\n",
       "\n",
       "    .dataframe tbody tr th {\n",
       "        vertical-align: top;\n",
       "    }\n",
       "\n",
       "    .dataframe thead th {\n",
       "        text-align: right;\n",
       "    }\n",
       "</style>\n",
       "<table border=\"1\" class=\"dataframe\">\n",
       "  <thead>\n",
       "    <tr style=\"text-align: right;\">\n",
       "      <th></th>\n",
       "      <th>Name</th>\n",
       "      <th>Team</th>\n",
       "      <th>Position</th>\n",
       "      <th>Appearances</th>\n",
       "      <th>Goals</th>\n",
       "      <th>Assists</th>\n",
       "      <th>Yellow</th>\n",
       "      <th>Yellow-Red</th>\n",
       "      <th>Red</th>\n",
       "      <th>League</th>\n",
       "    </tr>\n",
       "  </thead>\n",
       "  <tbody>\n",
       "    <tr>\n",
       "      <th>0</th>\n",
       "      <td>Luka Milivojevic</td>\n",
       "      <td>Crystal Palace</td>\n",
       "      <td>Midfielder</td>\n",
       "      <td>38</td>\n",
       "      <td>12</td>\n",
       "      <td>2</td>\n",
       "      <td>10</td>\n",
       "      <td>0</td>\n",
       "      <td>0</td>\n",
       "      <td>Premier</td>\n",
       "    </tr>\n",
       "    <tr>\n",
       "      <th>1</th>\n",
       "      <td>Virgil van Dijk</td>\n",
       "      <td>Liverpool</td>\n",
       "      <td>Defender</td>\n",
       "      <td>38</td>\n",
       "      <td>4</td>\n",
       "      <td>2</td>\n",
       "      <td>1</td>\n",
       "      <td>0</td>\n",
       "      <td>0</td>\n",
       "      <td>Premier</td>\n",
       "    </tr>\n",
       "    <tr>\n",
       "      <th>2</th>\n",
       "      <td>Nathan Ake</td>\n",
       "      <td>AFC Bournemouth</td>\n",
       "      <td>Defender</td>\n",
       "      <td>38</td>\n",
       "      <td>4</td>\n",
       "      <td>0</td>\n",
       "      <td>3</td>\n",
       "      <td>0</td>\n",
       "      <td>0</td>\n",
       "      <td>Premier</td>\n",
       "    </tr>\n",
       "    <tr>\n",
       "      <th>3</th>\n",
       "      <td>Cesar Azpilicueta</td>\n",
       "      <td>Chelsea</td>\n",
       "      <td>Defender</td>\n",
       "      <td>38</td>\n",
       "      <td>1</td>\n",
       "      <td>5</td>\n",
       "      <td>4</td>\n",
       "      <td>0</td>\n",
       "      <td>0</td>\n",
       "      <td>Premier</td>\n",
       "    </tr>\n",
       "    <tr>\n",
       "      <th>4</th>\n",
       "      <td>Ben Mee</td>\n",
       "      <td>Burnley</td>\n",
       "      <td>Defender</td>\n",
       "      <td>38</td>\n",
       "      <td>0</td>\n",
       "      <td>2</td>\n",
       "      <td>9</td>\n",
       "      <td>0</td>\n",
       "      <td>0</td>\n",
       "      <td>Premier</td>\n",
       "    </tr>\n",
       "    <tr>\n",
       "      <th>...</th>\n",
       "      <td>...</td>\n",
       "      <td>...</td>\n",
       "      <td>...</td>\n",
       "      <td>...</td>\n",
       "      <td>...</td>\n",
       "      <td>...</td>\n",
       "      <td>...</td>\n",
       "      <td>...</td>\n",
       "      <td>...</td>\n",
       "      <td>...</td>\n",
       "    </tr>\n",
       "    <tr>\n",
       "      <th>509</th>\n",
       "      <td>Kyle Taylor</td>\n",
       "      <td>AFC Bournemouth</td>\n",
       "      <td>Midfielder</td>\n",
       "      <td>0</td>\n",
       "      <td>0</td>\n",
       "      <td>0</td>\n",
       "      <td>0</td>\n",
       "      <td>0</td>\n",
       "      <td>0</td>\n",
       "      <td>Premier</td>\n",
       "    </tr>\n",
       "    <tr>\n",
       "      <th>510</th>\n",
       "      <td>Emile Smith Rowe</td>\n",
       "      <td>Arsenal</td>\n",
       "      <td>Midfielder</td>\n",
       "      <td>0</td>\n",
       "      <td>0</td>\n",
       "      <td>0</td>\n",
       "      <td>0</td>\n",
       "      <td>0</td>\n",
       "      <td>0</td>\n",
       "      <td>Premier</td>\n",
       "    </tr>\n",
       "    <tr>\n",
       "      <th>511</th>\n",
       "      <td>Josh Benson</td>\n",
       "      <td>Burnley</td>\n",
       "      <td>Midfielder</td>\n",
       "      <td>0</td>\n",
       "      <td>0</td>\n",
       "      <td>0</td>\n",
       "      <td>0</td>\n",
       "      <td>0</td>\n",
       "      <td>0</td>\n",
       "      <td>Premier</td>\n",
       "    </tr>\n",
       "    <tr>\n",
       "      <th>512</th>\n",
       "      <td>Dan Burn</td>\n",
       "      <td>Brighton &amp; Hove Albion</td>\n",
       "      <td>Defender</td>\n",
       "      <td>0</td>\n",
       "      <td>0</td>\n",
       "      <td>0</td>\n",
       "      <td>0</td>\n",
       "      <td>0</td>\n",
       "      <td>0</td>\n",
       "      <td>Premier</td>\n",
       "    </tr>\n",
       "    <tr>\n",
       "      <th>513</th>\n",
       "      <td>Callum Roberts</td>\n",
       "      <td>Newcastle United</td>\n",
       "      <td>Forward</td>\n",
       "      <td>0</td>\n",
       "      <td>0</td>\n",
       "      <td>0</td>\n",
       "      <td>0</td>\n",
       "      <td>0</td>\n",
       "      <td>0</td>\n",
       "      <td>Premier</td>\n",
       "    </tr>\n",
       "  </tbody>\n",
       "</table>\n",
       "<p>514 rows × 10 columns</p>\n",
       "</div>"
      ],
      "text/plain": [
       "                  Name                    Team    Position Appearances Goals  \\\n",
       "0     Luka Milivojevic          Crystal Palace  Midfielder          38    12   \n",
       "1      Virgil van Dijk               Liverpool    Defender          38     4   \n",
       "2           Nathan Ake         AFC Bournemouth    Defender          38     4   \n",
       "3    Cesar Azpilicueta                 Chelsea    Defender          38     1   \n",
       "4              Ben Mee                 Burnley    Defender          38     0   \n",
       "..                 ...                     ...         ...         ...   ...   \n",
       "509        Kyle Taylor         AFC Bournemouth  Midfielder           0     0   \n",
       "510   Emile Smith Rowe                 Arsenal  Midfielder           0     0   \n",
       "511        Josh Benson                 Burnley  Midfielder           0     0   \n",
       "512           Dan Burn  Brighton & Hove Albion    Defender           0     0   \n",
       "513     Callum Roberts        Newcastle United     Forward           0     0   \n",
       "\n",
       "    Assists Yellow Yellow-Red Red   League  \n",
       "0         2     10          0   0  Premier  \n",
       "1         2      1          0   0  Premier  \n",
       "2         0      3          0   0  Premier  \n",
       "3         5      4          0   0  Premier  \n",
       "4         2      9          0   0  Premier  \n",
       "..      ...    ...        ...  ..      ...  \n",
       "509       0      0          0   0  Premier  \n",
       "510       0      0          0   0  Premier  \n",
       "511       0      0          0   0  Premier  \n",
       "512       0      0          0   0  Premier  \n",
       "513       0      0          0   0  Premier  \n",
       "\n",
       "[514 rows x 10 columns]"
      ]
     },
     "execution_count": 12,
     "metadata": {},
     "output_type": "execute_result"
    }
   ],
   "source": [
    "df_premier = pd.DataFrame(premier)\n",
    "df_premier"
   ]
  },
  {
   "cell_type": "code",
   "execution_count": 13,
   "metadata": {},
   "outputs": [
    {
     "data": {
      "text/html": [
       "<div>\n",
       "<style scoped>\n",
       "    .dataframe tbody tr th:only-of-type {\n",
       "        vertical-align: middle;\n",
       "    }\n",
       "\n",
       "    .dataframe tbody tr th {\n",
       "        vertical-align: top;\n",
       "    }\n",
       "\n",
       "    .dataframe thead th {\n",
       "        text-align: right;\n",
       "    }\n",
       "</style>\n",
       "<table border=\"1\" class=\"dataframe\">\n",
       "  <thead>\n",
       "    <tr style=\"text-align: right;\">\n",
       "      <th></th>\n",
       "      <th>Appearances</th>\n",
       "      <th>Goals</th>\n",
       "      <th>Assists</th>\n",
       "      <th>Yellow</th>\n",
       "      <th>Yellow-Red</th>\n",
       "      <th>Red</th>\n",
       "    </tr>\n",
       "  </thead>\n",
       "  <tbody>\n",
       "    <tr>\n",
       "      <th>count</th>\n",
       "      <td>514.000000</td>\n",
       "      <td>514.000000</td>\n",
       "      <td>514.000000</td>\n",
       "      <td>514.000000</td>\n",
       "      <td>514.000000</td>\n",
       "      <td>514.000000</td>\n",
       "    </tr>\n",
       "    <tr>\n",
       "      <th>mean</th>\n",
       "      <td>18.902724</td>\n",
       "      <td>2.021401</td>\n",
       "      <td>1.443580</td>\n",
       "      <td>2.357977</td>\n",
       "      <td>0.035019</td>\n",
       "      <td>0.056420</td>\n",
       "    </tr>\n",
       "    <tr>\n",
       "      <th>std</th>\n",
       "      <td>12.426088</td>\n",
       "      <td>3.607650</td>\n",
       "      <td>2.249914</td>\n",
       "      <td>2.666715</td>\n",
       "      <td>0.194313</td>\n",
       "      <td>0.230956</td>\n",
       "    </tr>\n",
       "    <tr>\n",
       "      <th>min</th>\n",
       "      <td>0.000000</td>\n",
       "      <td>0.000000</td>\n",
       "      <td>0.000000</td>\n",
       "      <td>0.000000</td>\n",
       "      <td>0.000000</td>\n",
       "      <td>0.000000</td>\n",
       "    </tr>\n",
       "    <tr>\n",
       "      <th>25%</th>\n",
       "      <td>7.000000</td>\n",
       "      <td>0.000000</td>\n",
       "      <td>0.000000</td>\n",
       "      <td>0.000000</td>\n",
       "      <td>0.000000</td>\n",
       "      <td>0.000000</td>\n",
       "    </tr>\n",
       "    <tr>\n",
       "      <th>50%</th>\n",
       "      <td>20.000000</td>\n",
       "      <td>1.000000</td>\n",
       "      <td>1.000000</td>\n",
       "      <td>2.000000</td>\n",
       "      <td>0.000000</td>\n",
       "      <td>0.000000</td>\n",
       "    </tr>\n",
       "    <tr>\n",
       "      <th>75%</th>\n",
       "      <td>30.000000</td>\n",
       "      <td>2.000000</td>\n",
       "      <td>2.000000</td>\n",
       "      <td>4.000000</td>\n",
       "      <td>0.000000</td>\n",
       "      <td>0.000000</td>\n",
       "    </tr>\n",
       "    <tr>\n",
       "      <th>max</th>\n",
       "      <td>38.000000</td>\n",
       "      <td>22.000000</td>\n",
       "      <td>15.000000</td>\n",
       "      <td>14.000000</td>\n",
       "      <td>2.000000</td>\n",
       "      <td>1.000000</td>\n",
       "    </tr>\n",
       "  </tbody>\n",
       "</table>\n",
       "</div>"
      ],
      "text/plain": [
       "       Appearances       Goals     Assists      Yellow  Yellow-Red         Red\n",
       "count   514.000000  514.000000  514.000000  514.000000  514.000000  514.000000\n",
       "mean     18.902724    2.021401    1.443580    2.357977    0.035019    0.056420\n",
       "std      12.426088    3.607650    2.249914    2.666715    0.194313    0.230956\n",
       "min       0.000000    0.000000    0.000000    0.000000    0.000000    0.000000\n",
       "25%       7.000000    0.000000    0.000000    0.000000    0.000000    0.000000\n",
       "50%      20.000000    1.000000    1.000000    2.000000    0.000000    0.000000\n",
       "75%      30.000000    2.000000    2.000000    4.000000    0.000000    0.000000\n",
       "max      38.000000   22.000000   15.000000   14.000000    2.000000    1.000000"
      ]
     },
     "execution_count": 13,
     "metadata": {},
     "output_type": "execute_result"
    }
   ],
   "source": [
    "df_premier.Appearances = df_premier.Appearances.astype(float)\n",
    "df_premier.Goals = df_premier.Goals.astype(float)\n",
    "df_premier.Assists = df_premier.Assists.astype(float)\n",
    "df_premier.Yellow = df_premier.Yellow.astype(float)\n",
    "df_premier[\"Yellow-Red\"] = df_premier[\"Yellow-Red\"].astype(float)\n",
    "df_premier.Red = df_premier.Red.astype(float)\n",
    "df_premier.describe()"
   ]
  },
  {
   "cell_type": "markdown",
   "metadata": {},
   "source": [
    "## Statistics for Serie A (Italian League)"
   ]
  },
  {
   "cell_type": "code",
   "execution_count": 14,
   "metadata": {},
   "outputs": [],
   "source": [
    "response = requests.get(\"https://www.statbunker.com/competitions/PlayerStandings?comp_id=623\")\n",
    "soup = BeautifulSoup(response.content, \"html.parser\")"
   ]
  },
  {
   "cell_type": "code",
   "execution_count": 15,
   "metadata": {},
   "outputs": [],
   "source": [
    "serie = []\n",
    "items = soup.findAll(\"tr\", {\"class\": [\"Forward\", \"Defender\", \"Midfielder\"]})\n",
    "\n",
    "for players in items:\n",
    "    name = players.find(\"td\", \"mob tdInline\").contents[0]\n",
    "    team = players.find(\"td\", \"nonMob\").contents[0]\n",
    "    pos = players.find(\"td\", \"nonMob\").find_next(\"td\").contents[0]\n",
    "    appear = players.find(\"td\", \"nonMob\").find_next(\"td\").find_next(\"td\").contents[0]\n",
    "    goals = players.find(\"td\", {\"title\": \"Goals\"}).contents[0]\n",
    "    assists = players.find(\"td\", {\"title\": \"Assists\"}).contents[0]\n",
    "    yellow = players.find(\"td\", {\"title\": \"Yellow\"}).contents[0]\n",
    "    yellow_red = players.find(\"td\", {\"title\": \"Yellow-Red\"}).contents[0]\n",
    "    red = players.find(\"td\", {\"title\": \"Red\"}).contents[0]\n",
    "\n",
    "    serie.append({\n",
    "        \"Name\": name,\n",
    "        \"Team\": team,\n",
    "        \"Position\": pos,\n",
    "        \"Appearances\": appear,\n",
    "        \"Goals\": goals,\n",
    "        \"Assists\": assists,\n",
    "        \"Yellow\": yellow,\n",
    "        \"Yellow-Red\": yellow_red,\n",
    "        \"Red\": red,\n",
    "        \"League\": \"Serie A\"\n",
    "    }) "
   ]
  },
  {
   "cell_type": "code",
   "execution_count": 16,
   "metadata": {},
   "outputs": [
    {
     "data": {
      "text/html": [
       "<div>\n",
       "<style scoped>\n",
       "    .dataframe tbody tr th:only-of-type {\n",
       "        vertical-align: middle;\n",
       "    }\n",
       "\n",
       "    .dataframe tbody tr th {\n",
       "        vertical-align: top;\n",
       "    }\n",
       "\n",
       "    .dataframe thead th {\n",
       "        text-align: right;\n",
       "    }\n",
       "</style>\n",
       "<table border=\"1\" class=\"dataframe\">\n",
       "  <thead>\n",
       "    <tr style=\"text-align: right;\">\n",
       "      <th></th>\n",
       "      <th>Name</th>\n",
       "      <th>Team</th>\n",
       "      <th>Position</th>\n",
       "      <th>Appearances</th>\n",
       "      <th>Goals</th>\n",
       "      <th>Assists</th>\n",
       "      <th>Yellow</th>\n",
       "      <th>Yellow-Red</th>\n",
       "      <th>Red</th>\n",
       "      <th>League</th>\n",
       "    </tr>\n",
       "  </thead>\n",
       "  <tbody>\n",
       "    <tr>\n",
       "      <th>0</th>\n",
       "      <td>Francesco Caputo</td>\n",
       "      <td>Empoli</td>\n",
       "      <td>Forward</td>\n",
       "      <td>38</td>\n",
       "      <td>16</td>\n",
       "      <td>3</td>\n",
       "      <td>3</td>\n",
       "      <td>0</td>\n",
       "      <td>0</td>\n",
       "      <td>Serie A</td>\n",
       "    </tr>\n",
       "    <tr>\n",
       "      <th>1</th>\n",
       "      <td>Simone Iacoponi</td>\n",
       "      <td>Parma</td>\n",
       "      <td>Defender</td>\n",
       "      <td>38</td>\n",
       "      <td>0</td>\n",
       "      <td>0</td>\n",
       "      <td>4</td>\n",
       "      <td>0</td>\n",
       "      <td>0</td>\n",
       "      <td>Serie A</td>\n",
       "    </tr>\n",
       "    <tr>\n",
       "      <th>2</th>\n",
       "      <td>Christian Kouame</td>\n",
       "      <td>Genoa</td>\n",
       "      <td>Forward</td>\n",
       "      <td>38</td>\n",
       "      <td>4</td>\n",
       "      <td>5</td>\n",
       "      <td>4</td>\n",
       "      <td>0</td>\n",
       "      <td>0</td>\n",
       "      <td>Serie A</td>\n",
       "    </tr>\n",
       "    <tr>\n",
       "      <th>3</th>\n",
       "      <td>Fabio Quagliarella</td>\n",
       "      <td>Sampdoria</td>\n",
       "      <td>Forward</td>\n",
       "      <td>37</td>\n",
       "      <td>26</td>\n",
       "      <td>8</td>\n",
       "      <td>1</td>\n",
       "      <td>0</td>\n",
       "      <td>0</td>\n",
       "      <td>Serie A</td>\n",
       "    </tr>\n",
       "    <tr>\n",
       "      <th>4</th>\n",
       "      <td>Andrea Belotti</td>\n",
       "      <td>Torino</td>\n",
       "      <td>Forward</td>\n",
       "      <td>37</td>\n",
       "      <td>15</td>\n",
       "      <td>3</td>\n",
       "      <td>5</td>\n",
       "      <td>0</td>\n",
       "      <td>0</td>\n",
       "      <td>Serie A</td>\n",
       "    </tr>\n",
       "    <tr>\n",
       "      <th>...</th>\n",
       "      <td>...</td>\n",
       "      <td>...</td>\n",
       "      <td>...</td>\n",
       "      <td>...</td>\n",
       "      <td>...</td>\n",
       "      <td>...</td>\n",
       "      <td>...</td>\n",
       "      <td>...</td>\n",
       "      <td>...</td>\n",
       "      <td>...</td>\n",
       "    </tr>\n",
       "    <tr>\n",
       "      <th>555</th>\n",
       "      <td>Riccardo Montolivo</td>\n",
       "      <td>AC Milan</td>\n",
       "      <td>Midfielder</td>\n",
       "      <td>0</td>\n",
       "      <td>0</td>\n",
       "      <td>0</td>\n",
       "      <td>0</td>\n",
       "      <td>0</td>\n",
       "      <td>0</td>\n",
       "      <td>Serie A</td>\n",
       "    </tr>\n",
       "    <tr>\n",
       "      <th>556</th>\n",
       "      <td>Stefan Simic</td>\n",
       "      <td>AC Milan</td>\n",
       "      <td>Defender</td>\n",
       "      <td>0</td>\n",
       "      <td>0</td>\n",
       "      <td>0</td>\n",
       "      <td>0</td>\n",
       "      <td>0</td>\n",
       "      <td>0</td>\n",
       "      <td>Serie A</td>\n",
       "    </tr>\n",
       "    <tr>\n",
       "      <th>557</th>\n",
       "      <td>Niccolo Ricchi</td>\n",
       "      <td>Empoli</td>\n",
       "      <td>Defender</td>\n",
       "      <td>0</td>\n",
       "      <td>0</td>\n",
       "      <td>0</td>\n",
       "      <td>0</td>\n",
       "      <td>0</td>\n",
       "      <td>0</td>\n",
       "      <td>Serie A</td>\n",
       "    </tr>\n",
       "    <tr>\n",
       "      <th>558</th>\n",
       "      <td>Ivan Lakicevic</td>\n",
       "      <td>Genoa</td>\n",
       "      <td>Defender</td>\n",
       "      <td>0</td>\n",
       "      <td>0</td>\n",
       "      <td>0</td>\n",
       "      <td>0</td>\n",
       "      <td>0</td>\n",
       "      <td>0</td>\n",
       "      <td>Serie A</td>\n",
       "    </tr>\n",
       "    <tr>\n",
       "      <th>559</th>\n",
       "      <td>Luca Coccolo</td>\n",
       "      <td>Juventus</td>\n",
       "      <td>Defender</td>\n",
       "      <td>0</td>\n",
       "      <td>0</td>\n",
       "      <td>0</td>\n",
       "      <td>0</td>\n",
       "      <td>0</td>\n",
       "      <td>0</td>\n",
       "      <td>Serie A</td>\n",
       "    </tr>\n",
       "  </tbody>\n",
       "</table>\n",
       "<p>560 rows × 10 columns</p>\n",
       "</div>"
      ],
      "text/plain": [
       "                   Name       Team    Position Appearances Goals Assists  \\\n",
       "0      Francesco Caputo     Empoli     Forward          38    16       3   \n",
       "1       Simone Iacoponi      Parma    Defender          38     0       0   \n",
       "2      Christian Kouame      Genoa     Forward          38     4       5   \n",
       "3    Fabio Quagliarella  Sampdoria     Forward          37    26       8   \n",
       "4        Andrea Belotti     Torino     Forward          37    15       3   \n",
       "..                  ...        ...         ...         ...   ...     ...   \n",
       "555  Riccardo Montolivo   AC Milan  Midfielder           0     0       0   \n",
       "556        Stefan Simic   AC Milan    Defender           0     0       0   \n",
       "557      Niccolo Ricchi     Empoli    Defender           0     0       0   \n",
       "558      Ivan Lakicevic      Genoa    Defender           0     0       0   \n",
       "559        Luca Coccolo   Juventus    Defender           0     0       0   \n",
       "\n",
       "    Yellow Yellow-Red Red   League  \n",
       "0        3          0   0  Serie A  \n",
       "1        4          0   0  Serie A  \n",
       "2        4          0   0  Serie A  \n",
       "3        1          0   0  Serie A  \n",
       "4        5          0   0  Serie A  \n",
       "..     ...        ...  ..      ...  \n",
       "555      0          0   0  Serie A  \n",
       "556      0          0   0  Serie A  \n",
       "557      0          0   0  Serie A  \n",
       "558      0          0   0  Serie A  \n",
       "559      0          0   0  Serie A  \n",
       "\n",
       "[560 rows x 10 columns]"
      ]
     },
     "execution_count": 16,
     "metadata": {},
     "output_type": "execute_result"
    }
   ],
   "source": [
    "df_serie = pd.DataFrame(serie)\n",
    "df_serie"
   ]
  },
  {
   "cell_type": "code",
   "execution_count": 17,
   "metadata": {},
   "outputs": [
    {
     "data": {
      "text/html": [
       "<div>\n",
       "<style scoped>\n",
       "    .dataframe tbody tr th:only-of-type {\n",
       "        vertical-align: middle;\n",
       "    }\n",
       "\n",
       "    .dataframe tbody tr th {\n",
       "        vertical-align: top;\n",
       "    }\n",
       "\n",
       "    .dataframe thead th {\n",
       "        text-align: right;\n",
       "    }\n",
       "</style>\n",
       "<table border=\"1\" class=\"dataframe\">\n",
       "  <thead>\n",
       "    <tr style=\"text-align: right;\">\n",
       "      <th></th>\n",
       "      <th>Appearances</th>\n",
       "      <th>Goals</th>\n",
       "      <th>Assists</th>\n",
       "      <th>Yellow</th>\n",
       "      <th>Yellow-Red</th>\n",
       "      <th>Red</th>\n",
       "    </tr>\n",
       "  </thead>\n",
       "  <tbody>\n",
       "    <tr>\n",
       "      <th>count</th>\n",
       "      <td>560.000000</td>\n",
       "      <td>560.000000</td>\n",
       "      <td>560.000000</td>\n",
       "      <td>560.000000</td>\n",
       "      <td>560.000000</td>\n",
       "      <td>560.000000</td>\n",
       "    </tr>\n",
       "    <tr>\n",
       "      <th>mean</th>\n",
       "      <td>17.489286</td>\n",
       "      <td>1.760714</td>\n",
       "      <td>1.200000</td>\n",
       "      <td>3.023214</td>\n",
       "      <td>0.078571</td>\n",
       "      <td>0.075000</td>\n",
       "    </tr>\n",
       "    <tr>\n",
       "      <th>std</th>\n",
       "      <td>12.376758</td>\n",
       "      <td>3.259755</td>\n",
       "      <td>1.838565</td>\n",
       "      <td>2.994538</td>\n",
       "      <td>0.282282</td>\n",
       "      <td>0.270327</td>\n",
       "    </tr>\n",
       "    <tr>\n",
       "      <th>min</th>\n",
       "      <td>0.000000</td>\n",
       "      <td>0.000000</td>\n",
       "      <td>0.000000</td>\n",
       "      <td>0.000000</td>\n",
       "      <td>0.000000</td>\n",
       "      <td>0.000000</td>\n",
       "    </tr>\n",
       "    <tr>\n",
       "      <th>25%</th>\n",
       "      <td>5.000000</td>\n",
       "      <td>0.000000</td>\n",
       "      <td>0.000000</td>\n",
       "      <td>0.000000</td>\n",
       "      <td>0.000000</td>\n",
       "      <td>0.000000</td>\n",
       "    </tr>\n",
       "    <tr>\n",
       "      <th>50%</th>\n",
       "      <td>18.000000</td>\n",
       "      <td>0.000000</td>\n",
       "      <td>0.000000</td>\n",
       "      <td>2.000000</td>\n",
       "      <td>0.000000</td>\n",
       "      <td>0.000000</td>\n",
       "    </tr>\n",
       "    <tr>\n",
       "      <th>75%</th>\n",
       "      <td>29.000000</td>\n",
       "      <td>2.000000</td>\n",
       "      <td>2.000000</td>\n",
       "      <td>5.000000</td>\n",
       "      <td>0.000000</td>\n",
       "      <td>0.000000</td>\n",
       "    </tr>\n",
       "    <tr>\n",
       "      <th>max</th>\n",
       "      <td>38.000000</td>\n",
       "      <td>26.000000</td>\n",
       "      <td>11.000000</td>\n",
       "      <td>15.000000</td>\n",
       "      <td>2.000000</td>\n",
       "      <td>2.000000</td>\n",
       "    </tr>\n",
       "  </tbody>\n",
       "</table>\n",
       "</div>"
      ],
      "text/plain": [
       "       Appearances       Goals     Assists      Yellow  Yellow-Red         Red\n",
       "count   560.000000  560.000000  560.000000  560.000000  560.000000  560.000000\n",
       "mean     17.489286    1.760714    1.200000    3.023214    0.078571    0.075000\n",
       "std      12.376758    3.259755    1.838565    2.994538    0.282282    0.270327\n",
       "min       0.000000    0.000000    0.000000    0.000000    0.000000    0.000000\n",
       "25%       5.000000    0.000000    0.000000    0.000000    0.000000    0.000000\n",
       "50%      18.000000    0.000000    0.000000    2.000000    0.000000    0.000000\n",
       "75%      29.000000    2.000000    2.000000    5.000000    0.000000    0.000000\n",
       "max      38.000000   26.000000   11.000000   15.000000    2.000000    2.000000"
      ]
     },
     "execution_count": 17,
     "metadata": {},
     "output_type": "execute_result"
    }
   ],
   "source": [
    "df_serie.Appearances = df_serie.Appearances.astype(float)\n",
    "df_serie.Goals = df_serie.Goals.astype(float)\n",
    "df_serie.Assists = df_serie.Assists.astype(float)\n",
    "df_serie.Yellow = df_serie.Yellow.astype(float)\n",
    "df_serie[\"Yellow-Red\"] = df_serie[\"Yellow-Red\"].astype(float)\n",
    "df_serie.Red = df_serie.Red.astype(float)\n",
    "df_serie.describe()"
   ]
  },
  {
   "cell_type": "markdown",
   "metadata": {},
   "source": [
    "## Statistics for Bundesliga (German League)"
   ]
  },
  {
   "cell_type": "code",
   "execution_count": 18,
   "metadata": {},
   "outputs": [],
   "source": [
    "response = requests.get(\"https://www.statbunker.com/competitions/PlayerStandings?comp_id=620\")\n",
    "soup = BeautifulSoup(response.content, \"html.parser\")"
   ]
  },
  {
   "cell_type": "code",
   "execution_count": 19,
   "metadata": {},
   "outputs": [],
   "source": [
    "bundesliga = []\n",
    "items = soup.findAll(\"tr\", {\"class\": [\"Forward\", \"Defender\", \"Midfielder\"]})\n",
    "\n",
    "for players in items:\n",
    "    name = players.find(\"td\", \"mob tdInline\").contents[0]\n",
    "    team = players.find(\"td\", \"nonMob\").contents[0]\n",
    "    pos = players.find(\"td\", \"nonMob\").find_next(\"td\").contents[0]\n",
    "    appear = players.find(\"td\", \"nonMob\").find_next(\"td\").find_next(\"td\").contents[0]\n",
    "    goals = players.find(\"td\", {\"title\": \"Goals\"}).contents[0]\n",
    "    assists = players.find(\"td\", {\"title\": \"Assists\"}).contents[0]\n",
    "    yellow = players.find(\"td\", {\"title\": \"Yellow\"}).contents[0]\n",
    "    yellow_red = players.find(\"td\", {\"title\": \"Yellow-Red\"}).contents[0]\n",
    "    red = players.find(\"td\", {\"title\": \"Red\"}).contents[0]\n",
    "\n",
    "    bundesliga.append({\n",
    "        \"Name\": name,\n",
    "        \"Team\": team,\n",
    "        \"Position\": pos,\n",
    "        \"Appearances\": appear,\n",
    "        \"Goals\": goals,\n",
    "        \"Assists\": assists,\n",
    "        \"Yellow\": yellow,\n",
    "        \"Yellow-Red\": yellow_red,\n",
    "        \"Red\": red,\n",
    "        \"League\": \"Bundesliga\"\n",
    "    }) "
   ]
  },
  {
   "cell_type": "code",
   "execution_count": 20,
   "metadata": {},
   "outputs": [
    {
     "data": {
      "text/html": [
       "<div>\n",
       "<style scoped>\n",
       "    .dataframe tbody tr th:only-of-type {\n",
       "        vertical-align: middle;\n",
       "    }\n",
       "\n",
       "    .dataframe tbody tr th {\n",
       "        vertical-align: top;\n",
       "    }\n",
       "\n",
       "    .dataframe thead th {\n",
       "        text-align: right;\n",
       "    }\n",
       "</style>\n",
       "<table border=\"1\" class=\"dataframe\">\n",
       "  <thead>\n",
       "    <tr style=\"text-align: right;\">\n",
       "      <th></th>\n",
       "      <th>Name</th>\n",
       "      <th>Team</th>\n",
       "      <th>Position</th>\n",
       "      <th>Appearances</th>\n",
       "      <th>Goals</th>\n",
       "      <th>Assists</th>\n",
       "      <th>Yellow</th>\n",
       "      <th>Yellow-Red</th>\n",
       "      <th>Red</th>\n",
       "      <th>League</th>\n",
       "    </tr>\n",
       "  </thead>\n",
       "  <tbody>\n",
       "    <tr>\n",
       "      <th>0</th>\n",
       "      <td>Maximillian Eggestein</td>\n",
       "      <td>Werder Bremen</td>\n",
       "      <td>Midfielder</td>\n",
       "      <td>36</td>\n",
       "      <td>5</td>\n",
       "      <td>6</td>\n",
       "      <td>4</td>\n",
       "      <td>0</td>\n",
       "      <td>0</td>\n",
       "      <td>Bundesliga</td>\n",
       "    </tr>\n",
       "    <tr>\n",
       "      <th>1</th>\n",
       "      <td>Joshua Kimmich</td>\n",
       "      <td>Bayern Munich</td>\n",
       "      <td>Midfielder</td>\n",
       "      <td>34</td>\n",
       "      <td>2</td>\n",
       "      <td>13</td>\n",
       "      <td>4</td>\n",
       "      <td>0</td>\n",
       "      <td>0</td>\n",
       "      <td>Bundesliga</td>\n",
       "    </tr>\n",
       "    <tr>\n",
       "      <th>2</th>\n",
       "      <td>Danny Da Costa</td>\n",
       "      <td>Eintracht Frankfurt</td>\n",
       "      <td>Defender</td>\n",
       "      <td>34</td>\n",
       "      <td>2</td>\n",
       "      <td>4</td>\n",
       "      <td>1</td>\n",
       "      <td>0</td>\n",
       "      <td>0</td>\n",
       "      <td>Bundesliga</td>\n",
       "    </tr>\n",
       "    <tr>\n",
       "      <th>3</th>\n",
       "      <td>Ludwig Augustinsson</td>\n",
       "      <td>Werder Bremen</td>\n",
       "      <td>Defender</td>\n",
       "      <td>34</td>\n",
       "      <td>1</td>\n",
       "      <td>4</td>\n",
       "      <td>5</td>\n",
       "      <td>0</td>\n",
       "      <td>0</td>\n",
       "      <td>Bundesliga</td>\n",
       "    </tr>\n",
       "    <tr>\n",
       "      <th>4</th>\n",
       "      <td>Matthias Zimmermann</td>\n",
       "      <td>Fortuna Dusseldorf</td>\n",
       "      <td>Midfielder</td>\n",
       "      <td>34</td>\n",
       "      <td>1</td>\n",
       "      <td>3</td>\n",
       "      <td>4</td>\n",
       "      <td>0</td>\n",
       "      <td>0</td>\n",
       "      <td>Bundesliga</td>\n",
       "    </tr>\n",
       "    <tr>\n",
       "      <th>...</th>\n",
       "      <td>...</td>\n",
       "      <td>...</td>\n",
       "      <td>...</td>\n",
       "      <td>...</td>\n",
       "      <td>...</td>\n",
       "      <td>...</td>\n",
       "      <td>...</td>\n",
       "      <td>...</td>\n",
       "      <td>...</td>\n",
       "      <td>...</td>\n",
       "    </tr>\n",
       "    <tr>\n",
       "      <th>466</th>\n",
       "      <td>Panzu Ernesto</td>\n",
       "      <td>Hertha BSC</td>\n",
       "      <td>Defender</td>\n",
       "      <td>0</td>\n",
       "      <td>0</td>\n",
       "      <td>0</td>\n",
       "      <td>0</td>\n",
       "      <td>0</td>\n",
       "      <td>0</td>\n",
       "      <td>Bundesliga</td>\n",
       "    </tr>\n",
       "    <tr>\n",
       "      <th>467</th>\n",
       "      <td>David Kopacz</td>\n",
       "      <td>VfB Stuttgart</td>\n",
       "      <td>Midfielder</td>\n",
       "      <td>0</td>\n",
       "      <td>0</td>\n",
       "      <td>0</td>\n",
       "      <td>0</td>\n",
       "      <td>0</td>\n",
       "      <td>0</td>\n",
       "      <td>Bundesliga</td>\n",
       "    </tr>\n",
       "    <tr>\n",
       "      <th>468</th>\n",
       "      <td>Mete Kaan Demir</td>\n",
       "      <td>Hannover 96</td>\n",
       "      <td>Forward</td>\n",
       "      <td>0</td>\n",
       "      <td>0</td>\n",
       "      <td>0</td>\n",
       "      <td>0</td>\n",
       "      <td>0</td>\n",
       "      <td>0</td>\n",
       "      <td>Bundesliga</td>\n",
       "    </tr>\n",
       "    <tr>\n",
       "      <th>469</th>\n",
       "      <td>Dominik Franke</td>\n",
       "      <td>VfL Wolfsburg</td>\n",
       "      <td>Defender</td>\n",
       "      <td>0</td>\n",
       "      <td>0</td>\n",
       "      <td>0</td>\n",
       "      <td>0</td>\n",
       "      <td>0</td>\n",
       "      <td>0</td>\n",
       "      <td>Bundesliga</td>\n",
       "    </tr>\n",
       "    <tr>\n",
       "      <th>470</th>\n",
       "      <td>Jeremy Toljan</td>\n",
       "      <td>Borussia Dortmund</td>\n",
       "      <td>Defender</td>\n",
       "      <td>0</td>\n",
       "      <td>0</td>\n",
       "      <td>0</td>\n",
       "      <td>0</td>\n",
       "      <td>0</td>\n",
       "      <td>0</td>\n",
       "      <td>Bundesliga</td>\n",
       "    </tr>\n",
       "  </tbody>\n",
       "</table>\n",
       "<p>471 rows × 10 columns</p>\n",
       "</div>"
      ],
      "text/plain": [
       "                      Name                 Team    Position Appearances Goals  \\\n",
       "0    Maximillian Eggestein        Werder Bremen  Midfielder          36     5   \n",
       "1           Joshua Kimmich        Bayern Munich  Midfielder          34     2   \n",
       "2           Danny Da Costa  Eintracht Frankfurt    Defender          34     2   \n",
       "3      Ludwig Augustinsson        Werder Bremen    Defender          34     1   \n",
       "4      Matthias Zimmermann   Fortuna Dusseldorf  Midfielder          34     1   \n",
       "..                     ...                  ...         ...         ...   ...   \n",
       "466          Panzu Ernesto           Hertha BSC    Defender           0     0   \n",
       "467           David Kopacz        VfB Stuttgart  Midfielder           0     0   \n",
       "468        Mete Kaan Demir          Hannover 96     Forward           0     0   \n",
       "469         Dominik Franke        VfL Wolfsburg    Defender           0     0   \n",
       "470          Jeremy Toljan    Borussia Dortmund    Defender           0     0   \n",
       "\n",
       "    Assists Yellow Yellow-Red Red      League  \n",
       "0         6      4          0   0  Bundesliga  \n",
       "1        13      4          0   0  Bundesliga  \n",
       "2         4      1          0   0  Bundesliga  \n",
       "3         4      5          0   0  Bundesliga  \n",
       "4         3      4          0   0  Bundesliga  \n",
       "..      ...    ...        ...  ..         ...  \n",
       "466       0      0          0   0  Bundesliga  \n",
       "467       0      0          0   0  Bundesliga  \n",
       "468       0      0          0   0  Bundesliga  \n",
       "469       0      0          0   0  Bundesliga  \n",
       "470       0      0          0   0  Bundesliga  \n",
       "\n",
       "[471 rows x 10 columns]"
      ]
     },
     "execution_count": 20,
     "metadata": {},
     "output_type": "execute_result"
    }
   ],
   "source": [
    "df_bundesliga = pd.DataFrame(bundesliga)\n",
    "df_bundesliga"
   ]
  },
  {
   "cell_type": "code",
   "execution_count": 21,
   "metadata": {},
   "outputs": [
    {
     "data": {
      "text/html": [
       "<div>\n",
       "<style scoped>\n",
       "    .dataframe tbody tr th:only-of-type {\n",
       "        vertical-align: middle;\n",
       "    }\n",
       "\n",
       "    .dataframe tbody tr th {\n",
       "        vertical-align: top;\n",
       "    }\n",
       "\n",
       "    .dataframe thead th {\n",
       "        text-align: right;\n",
       "    }\n",
       "</style>\n",
       "<table border=\"1\" class=\"dataframe\">\n",
       "  <thead>\n",
       "    <tr style=\"text-align: right;\">\n",
       "      <th></th>\n",
       "      <th>Appearances</th>\n",
       "      <th>Goals</th>\n",
       "      <th>Assists</th>\n",
       "      <th>Yellow</th>\n",
       "      <th>Yellow-Red</th>\n",
       "      <th>Red</th>\n",
       "    </tr>\n",
       "  </thead>\n",
       "  <tbody>\n",
       "    <tr>\n",
       "      <th>count</th>\n",
       "      <td>471.000000</td>\n",
       "      <td>471.000000</td>\n",
       "      <td>471.000000</td>\n",
       "      <td>471.000000</td>\n",
       "      <td>471.000000</td>\n",
       "      <td>471.000000</td>\n",
       "    </tr>\n",
       "    <tr>\n",
       "      <th>mean</th>\n",
       "      <td>16.719745</td>\n",
       "      <td>2.025478</td>\n",
       "      <td>1.401274</td>\n",
       "      <td>2.142251</td>\n",
       "      <td>0.046709</td>\n",
       "      <td>0.042463</td>\n",
       "    </tr>\n",
       "    <tr>\n",
       "      <th>std</th>\n",
       "      <td>11.002225</td>\n",
       "      <td>3.428819</td>\n",
       "      <td>2.205004</td>\n",
       "      <td>2.164250</td>\n",
       "      <td>0.221082</td>\n",
       "      <td>0.201857</td>\n",
       "    </tr>\n",
       "    <tr>\n",
       "      <th>min</th>\n",
       "      <td>0.000000</td>\n",
       "      <td>0.000000</td>\n",
       "      <td>0.000000</td>\n",
       "      <td>0.000000</td>\n",
       "      <td>0.000000</td>\n",
       "      <td>0.000000</td>\n",
       "    </tr>\n",
       "    <tr>\n",
       "      <th>25%</th>\n",
       "      <td>6.000000</td>\n",
       "      <td>0.000000</td>\n",
       "      <td>0.000000</td>\n",
       "      <td>0.000000</td>\n",
       "      <td>0.000000</td>\n",
       "      <td>0.000000</td>\n",
       "    </tr>\n",
       "    <tr>\n",
       "      <th>50%</th>\n",
       "      <td>18.000000</td>\n",
       "      <td>1.000000</td>\n",
       "      <td>0.000000</td>\n",
       "      <td>2.000000</td>\n",
       "      <td>0.000000</td>\n",
       "      <td>0.000000</td>\n",
       "    </tr>\n",
       "    <tr>\n",
       "      <th>75%</th>\n",
       "      <td>27.000000</td>\n",
       "      <td>3.000000</td>\n",
       "      <td>2.000000</td>\n",
       "      <td>3.500000</td>\n",
       "      <td>0.000000</td>\n",
       "      <td>0.000000</td>\n",
       "    </tr>\n",
       "    <tr>\n",
       "      <th>max</th>\n",
       "      <td>36.000000</td>\n",
       "      <td>22.000000</td>\n",
       "      <td>14.000000</td>\n",
       "      <td>10.000000</td>\n",
       "      <td>2.000000</td>\n",
       "      <td>1.000000</td>\n",
       "    </tr>\n",
       "  </tbody>\n",
       "</table>\n",
       "</div>"
      ],
      "text/plain": [
       "       Appearances       Goals     Assists      Yellow  Yellow-Red         Red\n",
       "count   471.000000  471.000000  471.000000  471.000000  471.000000  471.000000\n",
       "mean     16.719745    2.025478    1.401274    2.142251    0.046709    0.042463\n",
       "std      11.002225    3.428819    2.205004    2.164250    0.221082    0.201857\n",
       "min       0.000000    0.000000    0.000000    0.000000    0.000000    0.000000\n",
       "25%       6.000000    0.000000    0.000000    0.000000    0.000000    0.000000\n",
       "50%      18.000000    1.000000    0.000000    2.000000    0.000000    0.000000\n",
       "75%      27.000000    3.000000    2.000000    3.500000    0.000000    0.000000\n",
       "max      36.000000   22.000000   14.000000   10.000000    2.000000    1.000000"
      ]
     },
     "execution_count": 21,
     "metadata": {},
     "output_type": "execute_result"
    }
   ],
   "source": [
    "df_bundesliga.Appearances = df_bundesliga.Appearances.astype(float)\n",
    "df_bundesliga.Goals = df_bundesliga.Goals.astype(float)\n",
    "df_bundesliga.Assists = df_bundesliga.Assists.astype(float)\n",
    "df_bundesliga.Yellow = df_bundesliga.Yellow.astype(float)\n",
    "df_bundesliga[\"Yellow-Red\"] = df_bundesliga[\"Yellow-Red\"].astype(float)\n",
    "df_bundesliga.Red = df_bundesliga.Red.astype(float)\n",
    "df_bundesliga.describe()"
   ]
  },
  {
   "cell_type": "markdown",
   "metadata": {},
   "source": [
    "## Overall Data Frame of the 5 Leagues"
   ]
  },
  {
   "cell_type": "code",
   "execution_count": 22,
   "metadata": {},
   "outputs": [
    {
     "data": {
      "text/html": [
       "<div>\n",
       "<style scoped>\n",
       "    .dataframe tbody tr th:only-of-type {\n",
       "        vertical-align: middle;\n",
       "    }\n",
       "\n",
       "    .dataframe tbody tr th {\n",
       "        vertical-align: top;\n",
       "    }\n",
       "\n",
       "    .dataframe thead th {\n",
       "        text-align: right;\n",
       "    }\n",
       "</style>\n",
       "<table border=\"1\" class=\"dataframe\">\n",
       "  <thead>\n",
       "    <tr style=\"text-align: right;\">\n",
       "      <th></th>\n",
       "      <th>Name</th>\n",
       "      <th>Team</th>\n",
       "      <th>Position</th>\n",
       "      <th>Appearances</th>\n",
       "      <th>Goals</th>\n",
       "      <th>Assists</th>\n",
       "      <th>Yellow</th>\n",
       "      <th>Yellow-Red</th>\n",
       "      <th>Red</th>\n",
       "      <th>League</th>\n",
       "    </tr>\n",
       "  </thead>\n",
       "  <tbody>\n",
       "    <tr>\n",
       "      <th>0</th>\n",
       "      <td>Inaki Williams</td>\n",
       "      <td>Athletic Bilbao</td>\n",
       "      <td>Forward</td>\n",
       "      <td>38.0</td>\n",
       "      <td>12.0</td>\n",
       "      <td>4.0</td>\n",
       "      <td>3.0</td>\n",
       "      <td>0.0</td>\n",
       "      <td>0.0</td>\n",
       "      <td>Laliga</td>\n",
       "    </tr>\n",
       "    <tr>\n",
       "      <th>1</th>\n",
       "      <td>Jorge Molina</td>\n",
       "      <td>Getafe</td>\n",
       "      <td>Forward</td>\n",
       "      <td>38.0</td>\n",
       "      <td>14.0</td>\n",
       "      <td>5.0</td>\n",
       "      <td>2.0</td>\n",
       "      <td>0.0</td>\n",
       "      <td>0.0</td>\n",
       "      <td>Laliga</td>\n",
       "    </tr>\n",
       "    <tr>\n",
       "      <th>2</th>\n",
       "      <td>Antoine Griezmann</td>\n",
       "      <td>Atletico Madrid</td>\n",
       "      <td>Forward</td>\n",
       "      <td>37.0</td>\n",
       "      <td>15.0</td>\n",
       "      <td>8.0</td>\n",
       "      <td>5.0</td>\n",
       "      <td>0.0</td>\n",
       "      <td>0.0</td>\n",
       "      <td>Laliga</td>\n",
       "    </tr>\n",
       "    <tr>\n",
       "      <th>3</th>\n",
       "      <td>Mikel Oyarzabal</td>\n",
       "      <td>Real Sociedad</td>\n",
       "      <td>Midfielder</td>\n",
       "      <td>37.0</td>\n",
       "      <td>13.0</td>\n",
       "      <td>2.0</td>\n",
       "      <td>2.0</td>\n",
       "      <td>0.0</td>\n",
       "      <td>0.0</td>\n",
       "      <td>Laliga</td>\n",
       "    </tr>\n",
       "    <tr>\n",
       "      <th>4</th>\n",
       "      <td>Borja Iglesias</td>\n",
       "      <td>Espanyol</td>\n",
       "      <td>Defender</td>\n",
       "      <td>37.0</td>\n",
       "      <td>17.0</td>\n",
       "      <td>3.0</td>\n",
       "      <td>5.0</td>\n",
       "      <td>0.0</td>\n",
       "      <td>0.0</td>\n",
       "      <td>Laliga</td>\n",
       "    </tr>\n",
       "    <tr>\n",
       "      <th>...</th>\n",
       "      <td>...</td>\n",
       "      <td>...</td>\n",
       "      <td>...</td>\n",
       "      <td>...</td>\n",
       "      <td>...</td>\n",
       "      <td>...</td>\n",
       "      <td>...</td>\n",
       "      <td>...</td>\n",
       "      <td>...</td>\n",
       "      <td>...</td>\n",
       "    </tr>\n",
       "    <tr>\n",
       "      <th>2679</th>\n",
       "      <td>Panzu Ernesto</td>\n",
       "      <td>Hertha BSC</td>\n",
       "      <td>Defender</td>\n",
       "      <td>0.0</td>\n",
       "      <td>0.0</td>\n",
       "      <td>0.0</td>\n",
       "      <td>0.0</td>\n",
       "      <td>0.0</td>\n",
       "      <td>0.0</td>\n",
       "      <td>Bundesliga</td>\n",
       "    </tr>\n",
       "    <tr>\n",
       "      <th>2680</th>\n",
       "      <td>David Kopacz</td>\n",
       "      <td>VfB Stuttgart</td>\n",
       "      <td>Midfielder</td>\n",
       "      <td>0.0</td>\n",
       "      <td>0.0</td>\n",
       "      <td>0.0</td>\n",
       "      <td>0.0</td>\n",
       "      <td>0.0</td>\n",
       "      <td>0.0</td>\n",
       "      <td>Bundesliga</td>\n",
       "    </tr>\n",
       "    <tr>\n",
       "      <th>2681</th>\n",
       "      <td>Mete Kaan Demir</td>\n",
       "      <td>Hannover 96</td>\n",
       "      <td>Forward</td>\n",
       "      <td>0.0</td>\n",
       "      <td>0.0</td>\n",
       "      <td>0.0</td>\n",
       "      <td>0.0</td>\n",
       "      <td>0.0</td>\n",
       "      <td>0.0</td>\n",
       "      <td>Bundesliga</td>\n",
       "    </tr>\n",
       "    <tr>\n",
       "      <th>2682</th>\n",
       "      <td>Dominik Franke</td>\n",
       "      <td>VfL Wolfsburg</td>\n",
       "      <td>Defender</td>\n",
       "      <td>0.0</td>\n",
       "      <td>0.0</td>\n",
       "      <td>0.0</td>\n",
       "      <td>0.0</td>\n",
       "      <td>0.0</td>\n",
       "      <td>0.0</td>\n",
       "      <td>Bundesliga</td>\n",
       "    </tr>\n",
       "    <tr>\n",
       "      <th>2683</th>\n",
       "      <td>Jeremy Toljan</td>\n",
       "      <td>Borussia Dortmund</td>\n",
       "      <td>Defender</td>\n",
       "      <td>0.0</td>\n",
       "      <td>0.0</td>\n",
       "      <td>0.0</td>\n",
       "      <td>0.0</td>\n",
       "      <td>0.0</td>\n",
       "      <td>0.0</td>\n",
       "      <td>Bundesliga</td>\n",
       "    </tr>\n",
       "  </tbody>\n",
       "</table>\n",
       "<p>2684 rows × 10 columns</p>\n",
       "</div>"
      ],
      "text/plain": [
       "                   Name               Team    Position  Appearances  Goals  \\\n",
       "0        Inaki Williams    Athletic Bilbao     Forward         38.0   12.0   \n",
       "1          Jorge Molina             Getafe     Forward         38.0   14.0   \n",
       "2     Antoine Griezmann    Atletico Madrid     Forward         37.0   15.0   \n",
       "3       Mikel Oyarzabal      Real Sociedad  Midfielder         37.0   13.0   \n",
       "4        Borja Iglesias           Espanyol    Defender         37.0   17.0   \n",
       "...                 ...                ...         ...          ...    ...   \n",
       "2679      Panzu Ernesto         Hertha BSC    Defender          0.0    0.0   \n",
       "2680       David Kopacz      VfB Stuttgart  Midfielder          0.0    0.0   \n",
       "2681    Mete Kaan Demir        Hannover 96     Forward          0.0    0.0   \n",
       "2682     Dominik Franke      VfL Wolfsburg    Defender          0.0    0.0   \n",
       "2683      Jeremy Toljan  Borussia Dortmund    Defender          0.0    0.0   \n",
       "\n",
       "      Assists  Yellow  Yellow-Red  Red      League  \n",
       "0         4.0     3.0         0.0  0.0      Laliga  \n",
       "1         5.0     2.0         0.0  0.0      Laliga  \n",
       "2         8.0     5.0         0.0  0.0      Laliga  \n",
       "3         2.0     2.0         0.0  0.0      Laliga  \n",
       "4         3.0     5.0         0.0  0.0      Laliga  \n",
       "...       ...     ...         ...  ...         ...  \n",
       "2679      0.0     0.0         0.0  0.0  Bundesliga  \n",
       "2680      0.0     0.0         0.0  0.0  Bundesliga  \n",
       "2681      0.0     0.0         0.0  0.0  Bundesliga  \n",
       "2682      0.0     0.0         0.0  0.0  Bundesliga  \n",
       "2683      0.0     0.0         0.0  0.0  Bundesliga  \n",
       "\n",
       "[2684 rows x 10 columns]"
      ]
     },
     "execution_count": 22,
     "metadata": {},
     "output_type": "execute_result"
    }
   ],
   "source": [
    "df = pd.concat([df_laliga, df_mls, df_premier, df_serie, df_bundesliga]).reset_index(drop=True)\n",
    "df"
   ]
  },
  {
   "cell_type": "code",
   "execution_count": 23,
   "metadata": {},
   "outputs": [
    {
     "data": {
      "text/plain": [
       "Name           Dominik Franke\n",
       "Team            VfL Wolfsburg\n",
       "Position             Defender\n",
       "Appearances                 0\n",
       "Goals                       0\n",
       "Assists                     0\n",
       "Yellow                      0\n",
       "Yellow-Red                  0\n",
       "Red                         0\n",
       "League             Bundesliga\n",
       "Name: 2682, dtype: object"
      ]
     },
     "execution_count": 23,
     "metadata": {},
     "output_type": "execute_result"
    }
   ],
   "source": [
    "df.iloc[2682]"
   ]
  },
  {
   "cell_type": "code",
   "execution_count": 24,
   "metadata": {},
   "outputs": [
    {
     "data": {
      "text/html": [
       "<div>\n",
       "<style scoped>\n",
       "    .dataframe tbody tr th:only-of-type {\n",
       "        vertical-align: middle;\n",
       "    }\n",
       "\n",
       "    .dataframe tbody tr th {\n",
       "        vertical-align: top;\n",
       "    }\n",
       "\n",
       "    .dataframe thead th {\n",
       "        text-align: right;\n",
       "    }\n",
       "</style>\n",
       "<table border=\"1\" class=\"dataframe\">\n",
       "  <thead>\n",
       "    <tr style=\"text-align: right;\">\n",
       "      <th></th>\n",
       "      <th>Appearances</th>\n",
       "      <th>Goals</th>\n",
       "      <th>Assists</th>\n",
       "      <th>Yellow</th>\n",
       "      <th>Yellow-Red</th>\n",
       "      <th>Red</th>\n",
       "    </tr>\n",
       "  </thead>\n",
       "  <tbody>\n",
       "    <tr>\n",
       "      <th>count</th>\n",
       "      <td>2684.000000</td>\n",
       "      <td>2684.000000</td>\n",
       "      <td>2684.000000</td>\n",
       "      <td>2684.000000</td>\n",
       "      <td>2684.000000</td>\n",
       "      <td>2684.000000</td>\n",
       "    </tr>\n",
       "    <tr>\n",
       "      <th>mean</th>\n",
       "      <td>17.747765</td>\n",
       "      <td>1.913934</td>\n",
       "      <td>1.322653</td>\n",
       "      <td>2.686662</td>\n",
       "      <td>0.058122</td>\n",
       "      <td>0.068182</td>\n",
       "    </tr>\n",
       "    <tr>\n",
       "      <th>std</th>\n",
       "      <td>11.736361</td>\n",
       "      <td>3.499168</td>\n",
       "      <td>2.065331</td>\n",
       "      <td>2.834580</td>\n",
       "      <td>0.250927</td>\n",
       "      <td>0.260824</td>\n",
       "    </tr>\n",
       "    <tr>\n",
       "      <th>min</th>\n",
       "      <td>0.000000</td>\n",
       "      <td>0.000000</td>\n",
       "      <td>0.000000</td>\n",
       "      <td>0.000000</td>\n",
       "      <td>0.000000</td>\n",
       "      <td>0.000000</td>\n",
       "    </tr>\n",
       "    <tr>\n",
       "      <th>25%</th>\n",
       "      <td>7.000000</td>\n",
       "      <td>0.000000</td>\n",
       "      <td>0.000000</td>\n",
       "      <td>0.000000</td>\n",
       "      <td>0.000000</td>\n",
       "      <td>0.000000</td>\n",
       "    </tr>\n",
       "    <tr>\n",
       "      <th>50%</th>\n",
       "      <td>18.000000</td>\n",
       "      <td>1.000000</td>\n",
       "      <td>0.000000</td>\n",
       "      <td>2.000000</td>\n",
       "      <td>0.000000</td>\n",
       "      <td>0.000000</td>\n",
       "    </tr>\n",
       "    <tr>\n",
       "      <th>75%</th>\n",
       "      <td>28.000000</td>\n",
       "      <td>2.000000</td>\n",
       "      <td>2.000000</td>\n",
       "      <td>4.000000</td>\n",
       "      <td>0.000000</td>\n",
       "      <td>0.000000</td>\n",
       "    </tr>\n",
       "    <tr>\n",
       "      <th>max</th>\n",
       "      <td>38.000000</td>\n",
       "      <td>36.000000</td>\n",
       "      <td>15.000000</td>\n",
       "      <td>16.000000</td>\n",
       "      <td>2.000000</td>\n",
       "      <td>2.000000</td>\n",
       "    </tr>\n",
       "  </tbody>\n",
       "</table>\n",
       "</div>"
      ],
      "text/plain": [
       "       Appearances        Goals      Assists       Yellow   Yellow-Red  \\\n",
       "count  2684.000000  2684.000000  2684.000000  2684.000000  2684.000000   \n",
       "mean     17.747765     1.913934     1.322653     2.686662     0.058122   \n",
       "std      11.736361     3.499168     2.065331     2.834580     0.250927   \n",
       "min       0.000000     0.000000     0.000000     0.000000     0.000000   \n",
       "25%       7.000000     0.000000     0.000000     0.000000     0.000000   \n",
       "50%      18.000000     1.000000     0.000000     2.000000     0.000000   \n",
       "75%      28.000000     2.000000     2.000000     4.000000     0.000000   \n",
       "max      38.000000    36.000000    15.000000    16.000000     2.000000   \n",
       "\n",
       "               Red  \n",
       "count  2684.000000  \n",
       "mean      0.068182  \n",
       "std       0.260824  \n",
       "min       0.000000  \n",
       "25%       0.000000  \n",
       "50%       0.000000  \n",
       "75%       0.000000  \n",
       "max       2.000000  "
      ]
     },
     "execution_count": 24,
     "metadata": {},
     "output_type": "execute_result"
    }
   ],
   "source": [
    "df.Appearances = df.Appearances.astype(float)\n",
    "df.Goals = df.Goals.astype(float)\n",
    "df.Assists = df.Assists.astype(float)\n",
    "df.Yellow = df.Yellow.astype(float)\n",
    "df[\"Yellow-Red\"] = df[\"Yellow-Red\"].astype(float)\n",
    "df.Red = df.Red.astype(float)\n",
    "df.describe()"
   ]
  },
  {
   "cell_type": "markdown",
   "metadata": {},
   "source": [
    "## What Position Scores the Most Goals in each League"
   ]
  },
  {
   "cell_type": "markdown",
   "metadata": {},
   "source": [
    "To determine which position scored the most in each league; we decided to start by seeing who scored the most goals in each league."
   ]
  },
  {
   "cell_type": "markdown",
   "metadata": {},
   "source": [
    "#### Who Scored the Most Goals in each League?"
   ]
  },
  {
   "cell_type": "code",
   "execution_count": 25,
   "metadata": {},
   "outputs": [
    {
     "data": {
      "text/plain": [
       "([<matplotlib.axis.XTick at 0x7f9e904c79b0>,\n",
       "  <matplotlib.axis.XTick at 0x7f9e904c7978>,\n",
       "  <matplotlib.axis.XTick at 0x7f9e904bc470>,\n",
       "  <matplotlib.axis.XTick at 0x7f9e904a10f0>,\n",
       "  <matplotlib.axis.XTick at 0x7f9e904a1400>],\n",
       " [Text(0, 0, 'Lionel Messi'),\n",
       "  Text(0, 0, 'Carlos Vela'),\n",
       "  Text(0, 0, 'Mohamed Salah'),\n",
       "  Text(0, 0, 'Fabio Quagliarella'),\n",
       "  Text(0, 0, 'Robert Lewandowski')])"
      ]
     },
     "execution_count": 25,
     "metadata": {},
     "output_type": "execute_result"
    },
    {
     "data": {
      "image/png": "[encoded data removed]",
      "text/plain": [
       "<Figure size 432x288 with 1 Axes>"
      ]
     },
     "metadata": {
      "needs_background": "light"
     },
     "output_type": "display_data"
    }
   ],
   "source": [
    "laliga_highest_score = df.iloc[df[df[\"League\"] == \"Laliga\"].Goals.idxmax()]\n",
    "mls_highest_score = df.iloc[df[df[\"League\"] == \"MLS\"].Goals.idxmax()]\n",
    "premier_highest_score = df.iloc[df[df[\"League\"] == \"Premier\"].Goals.idxmax()]\n",
    "serie_highest_score = df.iloc[df[df[\"League\"] == \"Serie A\"].Goals.idxmax()]\n",
    "bundesliga_highest_score = df.iloc[df[df[\"League\"] == \"Bundesliga\"].Goals.idxmax()]\n",
    "\n",
    "list_highest = [laliga_highest_score, mls_highest_score, premier_highest_score, serie_highest_score, bundesliga_highest_score]\n",
    "list_highest_stats = {}\n",
    "\n",
    "for items in list_highest:\n",
    "    name = items.Name\n",
    "    goals = items.Goals\n",
    "    \n",
    "    list_highest_stats.update({\n",
    "        name: goals,\n",
    "    })\n",
    "    \n",
    "list_highest_stats \n",
    "\n",
    "plt.bar(list_highest_stats.keys(), list_highest_stats.values(), align='edge', width=.3)\n",
    "plt.xticks(range(len(list_highest_stats.values())), list_highest_stats.keys(), rotation=90)"
   ]
  },
  {
   "cell_type": "code",
   "execution_count": 26,
   "metadata": {},
   "outputs": [
    {
     "data": {
      "image/png": "[encoded data removed]",
      "text/plain": [
       "<Figure size 432x288 with 1 Axes>"
      ]
     },
     "metadata": {
      "needs_background": "light"
     },
     "output_type": "display_data"
    }
   ],
   "source": [
    "laliga_total = df[df[\"League\"] == \"Laliga\"].Goals.sum()\n",
    "mls_total = df[df[\"League\"] == \"MLS\"].Goals.sum()\n",
    "premier_total = df[df[\"League\"] == \"Premier\"].Goals.sum()\n",
    "serie_total = df[df[\"League\"] == \"Serie A\"].Goals.sum()\n",
    "bundesliga_total = df[df[\"League\"] == \"Bundesliga\"].Goals.sum()\n",
    "\n",
    "list_total = [laliga_total, mls_total, premier_total, serie_total, bundesliga_total]\n",
    "\n",
    "list_total_df = pd.DataFrame({'Leagues':['Laliga', 'MLS', 'Premier', 'Serie A', 'Bundesliga'], 'Goals': list_total})\n",
    "ax = list_total_df.plot.bar(x='Leagues', y='Goals', rot=0)"
   ]
  },
  {
   "cell_type": "markdown",
   "metadata": {},
   "source": [
    "We can see that MLS league scores the most points out of the 5 leagues. This may indicate that either MLS players are better at scoring or that the defense is weaker compared to other leagues. The other leagues are about the same."
   ]
  },
  {
   "cell_type": "code",
   "execution_count": 27,
   "metadata": {},
   "outputs": [
    {
     "data": {
      "text/plain": [
       "Team           Barcelona\n",
       "Position         Forward\n",
       "Appearances           34\n",
       "Goals                 36\n",
       "Assists               13\n",
       "Yellow                 3\n",
       "Yellow-Red             0\n",
       "Red                    0\n",
       "League            Laliga\n",
       "Name: Lionel Messi, dtype: object"
      ]
     },
     "execution_count": 27,
     "metadata": {},
     "output_type": "execute_result"
    }
   ],
   "source": [
    "df_name = df.set_index('Name')\n",
    "df_name.loc[\"Lionel Messi\"]"
   ]
  },
  {
   "cell_type": "code",
   "execution_count": 28,
   "metadata": {},
   "outputs": [
    {
     "data": {
      "text/plain": [
       "Team           Los Angeles FC\n",
       "Position              Forward\n",
       "Appearances                31\n",
       "Goals                      34\n",
       "Assists                    10\n",
       "Yellow                      1\n",
       "Yellow-Red                  0\n",
       "Red                         0\n",
       "League                    MLS\n",
       "Name: Carlos Vela, dtype: object"
      ]
     },
     "execution_count": 28,
     "metadata": {},
     "output_type": "execute_result"
    }
   ],
   "source": [
    "df_name.loc[\"Carlos Vela\"]"
   ]
  },
  {
   "cell_type": "code",
   "execution_count": 29,
   "metadata": {},
   "outputs": [
    {
     "data": {
      "text/plain": [
       "Team           Liverpool\n",
       "Position         Forward\n",
       "Appearances           38\n",
       "Goals                 22\n",
       "Assists                8\n",
       "Yellow                 1\n",
       "Yellow-Red             0\n",
       "Red                    0\n",
       "League           Premier\n",
       "Name: Mohamed Salah, dtype: object"
      ]
     },
     "execution_count": 29,
     "metadata": {},
     "output_type": "execute_result"
    }
   ],
   "source": [
    "df_name.loc[\"Mohamed Salah\"]"
   ]
  },
  {
   "cell_type": "code",
   "execution_count": 30,
   "metadata": {},
   "outputs": [
    {
     "data": {
      "text/plain": [
       "Team           Sampdoria\n",
       "Position         Forward\n",
       "Appearances           37\n",
       "Goals                 26\n",
       "Assists                8\n",
       "Yellow                 1\n",
       "Yellow-Red             0\n",
       "Red                    0\n",
       "League           Serie A\n",
       "Name: Fabio Quagliarella, dtype: object"
      ]
     },
     "execution_count": 30,
     "metadata": {},
     "output_type": "execute_result"
    }
   ],
   "source": [
    "df_name.loc[\"Fabio Quagliarella\"]"
   ]
  },
  {
   "cell_type": "code",
   "execution_count": 31,
   "metadata": {},
   "outputs": [
    {
     "data": {
      "text/plain": [
       "Team           Bayern Munich\n",
       "Position             Forward\n",
       "Appearances               33\n",
       "Goals                     22\n",
       "Assists                    7\n",
       "Yellow                     2\n",
       "Yellow-Red                 0\n",
       "Red                        0\n",
       "League            Bundesliga\n",
       "Name: Robert Lewandowski, dtype: object"
      ]
     },
     "execution_count": 31,
     "metadata": {},
     "output_type": "execute_result"
    }
   ],
   "source": [
    "df_name.loc[\"Robert Lewandowski\"]"
   ]
  },
  {
   "cell_type": "markdown",
   "metadata": {},
   "source": [
    "By looking at the graph and the data above we can see that the players that scored the most in each league are forwards which gives us the impresion that the position that scores the most is forward. However, to back this up we can get the total number of goals for each league "
   ]
  },
  {
   "cell_type": "markdown",
   "metadata": {},
   "source": [
    "#### Goals per positon LaLiga"
   ]
  },
  {
   "cell_type": "code",
   "execution_count": 32,
   "metadata": {},
   "outputs": [
    {
     "data": {
      "text/plain": [
       "Position\n",
       "Defender      0.735751\n",
       "Forward       3.753731\n",
       "Midfielder    1.534653\n",
       "Name: Goals, dtype: float64"
      ]
     },
     "execution_count": 32,
     "metadata": {},
     "output_type": "execute_result"
    }
   ],
   "source": [
    "goals_pos_laliga = df_laliga.groupby('Position')['Goals'].mean()\n",
    "goals_pos_laliga"
   ]
  },
  {
   "cell_type": "code",
   "execution_count": 33,
   "metadata": {},
   "outputs": [
    {
     "data": {
      "text/plain": [
       "<matplotlib.axes._subplots.AxesSubplot at 0x7f9e8fd857b8>"
      ]
     },
     "execution_count": 33,
     "metadata": {},
     "output_type": "execute_result"
    },
    {
     "data": {
      "image/png": "[encoded data removed]",
      "text/plain": [
       "<Figure size 432x288 with 1 Axes>"
      ]
     },
     "metadata": {
      "needs_background": "light"
     },
     "output_type": "display_data"
    }
   ],
   "source": [
    "goals_pos_laliga.plot.bar(title='Goals per Position')"
   ]
  },
  {
   "cell_type": "code",
   "execution_count": 34,
   "metadata": {},
   "outputs": [
    {
     "data": {
      "text/plain": [
       "Position\n",
       "Defender      193\n",
       "Forward       134\n",
       "Midfielder    202\n",
       "Name: Name, dtype: int64"
      ]
     },
     "execution_count": 34,
     "metadata": {},
     "output_type": "execute_result"
    }
   ],
   "source": [
    "pos_count_laliga = df_laliga.groupby('Position')['Name'].count()\n",
    "pos_count_laliga"
   ]
  },
  {
   "cell_type": "code",
   "execution_count": 35,
   "metadata": {},
   "outputs": [
    {
     "data": {
      "text/plain": [
       "<matplotlib.axes._subplots.AxesSubplot at 0x7f9e8fcc3780>"
      ]
     },
     "execution_count": 35,
     "metadata": {},
     "output_type": "execute_result"
    },
    {
     "data": {
      "image/png": "[encoded data removed]",
      "text/plain": [
       "<Figure size 432x288 with 1 Axes>"
      ]
     },
     "metadata": {
      "needs_background": "light"
     },
     "output_type": "display_data"
    }
   ],
   "source": [
    "pos_count_laliga.plot.bar(title='Number of Players per Position')"
   ]
  },
  {
   "cell_type": "markdown",
   "metadata": {},
   "source": [
    "#### Goals per position in the MLS"
   ]
  },
  {
   "cell_type": "code",
   "execution_count": 36,
   "metadata": {},
   "outputs": [
    {
     "data": {
      "text/plain": [
       "Position\n",
       "Defender      0.460000\n",
       "Forward       4.241379\n",
       "Midfielder    1.871698\n",
       "Name: Goals, dtype: float64"
      ]
     },
     "execution_count": 36,
     "metadata": {},
     "output_type": "execute_result"
    }
   ],
   "source": [
    "goals_pos_mls = df_mls.groupby('Position')['Goals'].mean()\n",
    "goals_pos_mls"
   ]
  },
  {
   "cell_type": "code",
   "execution_count": 37,
   "metadata": {},
   "outputs": [
    {
     "data": {
      "text/plain": [
       "<matplotlib.axes._subplots.AxesSubplot at 0x7f9e8fc96a58>"
      ]
     },
     "execution_count": 37,
     "metadata": {},
     "output_type": "execute_result"
    },
    {
     "data": {
      "image/png": "[encoded data removed]",
      "text/plain": [
       "<Figure size 432x288 with 1 Axes>"
      ]
     },
     "metadata": {
      "needs_background": "light"
     },
     "output_type": "display_data"
    }
   ],
   "source": [
    "goals_pos_mls.plot.bar(title='Goals per Position')"
   ]
  },
  {
   "cell_type": "code",
   "execution_count": 38,
   "metadata": {},
   "outputs": [
    {
     "data": {
      "text/plain": [
       "Position\n",
       "Defender      200\n",
       "Forward       145\n",
       "Midfielder    265\n",
       "Name: Name, dtype: int64"
      ]
     },
     "execution_count": 38,
     "metadata": {},
     "output_type": "execute_result"
    }
   ],
   "source": [
    "pos_count_mls = df_mls.groupby('Position')['Name'].count()\n",
    "pos_count_mls"
   ]
  },
  {
   "cell_type": "code",
   "execution_count": 39,
   "metadata": {},
   "outputs": [
    {
     "data": {
      "text/plain": [
       "<matplotlib.axes._subplots.AxesSubplot at 0x7f9e8fb8ee10>"
      ]
     },
     "execution_count": 39,
     "metadata": {},
     "output_type": "execute_result"
    },
    {
     "data": {
      "image/png": "[encoded data removed]",
      "text/plain": [
       "<Figure size 432x288 with 1 Axes>"
      ]
     },
     "metadata": {
      "needs_background": "light"
     },
     "output_type": "display_data"
    }
   ],
   "source": [
    "pos_count_mls.plot.bar(title='Number of Players per Position')"
   ]
  },
  {
   "cell_type": "markdown",
   "metadata": {},
   "source": [
    "#### Goals per position in the Premier League"
   ]
  },
  {
   "cell_type": "code",
   "execution_count": 40,
   "metadata": {},
   "outputs": [
    {
     "data": {
      "text/plain": [
       "Position\n",
       "Defender      0.694444\n",
       "Forward       4.000000\n",
       "Midfielder    2.124444\n",
       "Name: Goals, dtype: float64"
      ]
     },
     "execution_count": 40,
     "metadata": {},
     "output_type": "execute_result"
    }
   ],
   "source": [
    "goals_pos_premier = df_premier.groupby('Position')['Goals'].mean()\n",
    "goals_pos_premier"
   ]
  },
  {
   "cell_type": "code",
   "execution_count": 41,
   "metadata": {},
   "outputs": [
    {
     "data": {
      "text/plain": [
       "<matplotlib.axes._subplots.AxesSubplot at 0x7f9e8fb79b38>"
      ]
     },
     "execution_count": 41,
     "metadata": {},
     "output_type": "execute_result"
    },
    {
     "data": {
      "image/png": "[encoded data removed]",
      "text/plain": [
       "<Figure size 432x288 with 1 Axes>"
      ]
     },
     "metadata": {
      "needs_background": "light"
     },
     "output_type": "display_data"
    }
   ],
   "source": [
    "goals_pos_premier.plot.bar(title='Goals per Position')"
   ]
  },
  {
   "cell_type": "code",
   "execution_count": 42,
   "metadata": {},
   "outputs": [
    {
     "data": {
      "text/plain": [
       "Position\n",
       "Defender      180\n",
       "Forward       109\n",
       "Midfielder    225\n",
       "Name: Name, dtype: int64"
      ]
     },
     "execution_count": 42,
     "metadata": {},
     "output_type": "execute_result"
    }
   ],
   "source": [
    "pos_count_premier = df_premier.groupby('Position')['Name'].count()\n",
    "pos_count_premier"
   ]
  },
  {
   "cell_type": "code",
   "execution_count": 43,
   "metadata": {},
   "outputs": [
    {
     "data": {
      "text/plain": [
       "<matplotlib.axes._subplots.AxesSubplot at 0x7f9e8fad1a90>"
      ]
     },
     "execution_count": 43,
     "metadata": {},
     "output_type": "execute_result"
    },
    {
     "data": {
      "image/png": "[encoded data removed]",
      "text/plain": [
       "<Figure size 432x288 with 1 Axes>"
      ]
     },
     "metadata": {
      "needs_background": "light"
     },
     "output_type": "display_data"
    }
   ],
   "source": [
    "pos_count_premier.plot.bar(title='Number of Players per Position')"
   ]
  },
  {
   "cell_type": "markdown",
   "metadata": {},
   "source": [
    "#### Goals per position in the Serie A"
   ]
  },
  {
   "cell_type": "code",
   "execution_count": 44,
   "metadata": {},
   "outputs": [
    {
     "data": {
      "text/plain": [
       "Position\n",
       "Defender      0.823232\n",
       "Forward       3.548872\n",
       "Midfielder    1.532751\n",
       "Name: Goals, dtype: float64"
      ]
     },
     "execution_count": 44,
     "metadata": {},
     "output_type": "execute_result"
    }
   ],
   "source": [
    "goals_pos_serie = df_serie.groupby('Position')['Goals'].mean()\n",
    "goals_pos_serie"
   ]
  },
  {
   "cell_type": "code",
   "execution_count": 45,
   "metadata": {},
   "outputs": [
    {
     "data": {
      "text/plain": [
       "<matplotlib.axes._subplots.AxesSubplot at 0x7f9e8facaa20>"
      ]
     },
     "execution_count": 45,
     "metadata": {},
     "output_type": "execute_result"
    },
    {
     "data": {
      "image/png": "[encoded data removed]",
      "text/plain": [
       "<Figure size 432x288 with 1 Axes>"
      ]
     },
     "metadata": {
      "needs_background": "light"
     },
     "output_type": "display_data"
    }
   ],
   "source": [
    "goals_pos_serie.plot.bar(title='Goals per Position')"
   ]
  },
  {
   "cell_type": "code",
   "execution_count": 46,
   "metadata": {},
   "outputs": [
    {
     "data": {
      "text/plain": [
       "Position\n",
       "Defender      198\n",
       "Forward       133\n",
       "Midfielder    229\n",
       "Name: Name, dtype: int64"
      ]
     },
     "execution_count": 46,
     "metadata": {},
     "output_type": "execute_result"
    }
   ],
   "source": [
    "pos_count_serie = df_serie.groupby('Position')['Name'].count()\n",
    "pos_count_serie"
   ]
  },
  {
   "cell_type": "code",
   "execution_count": 47,
   "metadata": {},
   "outputs": [
    {
     "data": {
      "text/plain": [
       "<matplotlib.axes._subplots.AxesSubplot at 0x7f9e8fae3908>"
      ]
     },
     "execution_count": 47,
     "metadata": {},
     "output_type": "execute_result"
    },
    {
     "data": {
      "image/png": "[encoded data removed]",
      "text/plain": [
       "<Figure size 432x288 with 1 Axes>"
      ]
     },
     "metadata": {
      "needs_background": "light"
     },
     "output_type": "display_data"
    }
   ],
   "source": [
    "pos_count_serie.plot.bar(title='Number of Players per Position')"
   ]
  },
  {
   "cell_type": "markdown",
   "metadata": {},
   "source": [
    "#### Goals per position in the Bundesliga"
   ]
  },
  {
   "cell_type": "code",
   "execution_count": 48,
   "metadata": {},
   "outputs": [
    {
     "data": {
      "text/plain": [
       "Position\n",
       "Defender      0.693750\n",
       "Forward       4.051724\n",
       "Midfielder    1.912821\n",
       "Name: Goals, dtype: float64"
      ]
     },
     "execution_count": 48,
     "metadata": {},
     "output_type": "execute_result"
    }
   ],
   "source": [
    "goals_pos_bundesliga = df_bundesliga.groupby('Position')['Goals'].mean()\n",
    "goals_pos_bundesliga"
   ]
  },
  {
   "cell_type": "code",
   "execution_count": 49,
   "metadata": {},
   "outputs": [
    {
     "data": {
      "text/plain": [
       "<matplotlib.axes._subplots.AxesSubplot at 0x7f9e8fa0bf28>"
      ]
     },
     "execution_count": 49,
     "metadata": {},
     "output_type": "execute_result"
    },
    {
     "data": {
      "image/png": "[encoded data removed]",
      "text/plain": [
       "<Figure size 432x288 with 1 Axes>"
      ]
     },
     "metadata": {
      "needs_background": "light"
     },
     "output_type": "display_data"
    }
   ],
   "source": [
    "goals_pos_bundesliga.plot.bar(title='Goals per Position')"
   ]
  },
  {
   "cell_type": "code",
   "execution_count": 50,
   "metadata": {},
   "outputs": [
    {
     "data": {
      "text/plain": [
       "Position\n",
       "Defender      160\n",
       "Forward       116\n",
       "Midfielder    195\n",
       "Name: Name, dtype: int64"
      ]
     },
     "execution_count": 50,
     "metadata": {},
     "output_type": "execute_result"
    }
   ],
   "source": [
    "pos_count_bundesliga = df_bundesliga.groupby('Position')['Name'].count()\n",
    "pos_count_bundesliga"
   ]
  },
  {
   "cell_type": "code",
   "execution_count": 51,
   "metadata": {},
   "outputs": [
    {
     "data": {
      "text/plain": [
       "<matplotlib.axes._subplots.AxesSubplot at 0x7f9e8f9e86d8>"
      ]
     },
     "execution_count": 51,
     "metadata": {},
     "output_type": "execute_result"
    },
    {
     "data": {
      "image/png": "[encoded data removed]",
      "text/plain": [
       "<Figure size 432x288 with 1 Axes>"
      ]
     },
     "metadata": {
      "needs_background": "light"
     },
     "output_type": "display_data"
    }
   ],
   "source": [
    "pos_count_bundesliga.plot.bar(title='Number of Players per Position')"
   ]
  },
  {
   "cell_type": "markdown",
   "metadata": {},
   "source": [
    "## What position scores the most?"
   ]
  },
  {
   "cell_type": "markdown",
   "metadata": {},
   "source": [
    "Here, we want to determine which position scores the most goals to determine if there is any correlation between the position and scoring goals. To determine which position scored the most goals we grouped the \"Overall data frame of the 5 leagues\" by the position and we summed all the goals scored. "
   ]
  },
  {
   "cell_type": "code",
   "execution_count": 52,
   "metadata": {},
   "outputs": [
    {
     "data": {
      "text/plain": [
       "Position\n",
       "Defender       633.0\n",
       "Forward       2496.0\n",
       "Midfielder    2008.0\n",
       "Name: Goals, dtype: float64"
      ]
     },
     "execution_count": 52,
     "metadata": {},
     "output_type": "execute_result"
    }
   ],
   "source": [
    "goals_pos = df.groupby('Position')['Goals'].sum()\n",
    "goals_pos"
   ]
  },
  {
   "cell_type": "code",
   "execution_count": 53,
   "metadata": {},
   "outputs": [
    {
     "data": {
      "text/plain": [
       "<matplotlib.axes._subplots.AxesSubplot at 0x7f9e8f8d9f98>"
      ]
     },
     "execution_count": 53,
     "metadata": {},
     "output_type": "execute_result"
    },
    {
     "data": {
      "image/png": "[encoded data removed]",
      "text/plain": [
       "<Figure size 432x288 with 1 Axes>"
      ]
     },
     "metadata": {
      "needs_background": "light"
     },
     "output_type": "display_data"
    }
   ],
   "source": [
    "goals_pos.plot.bar()"
   ]
  },
  {
   "cell_type": "markdown",
   "metadata": {},
   "source": [
    "By looking at the data and the graph above we can see that the position the scored the mose goals was the forward position. The results gives us a clear view that there is a correlation between the position you play and the amount of goals you scored. Since the forward players are the ones are supposed to nearest to the opponents goalie. However, we see that the midfielders where not actually that behind from the forwrds in terms of scoring goals. The midfielders are in charge of controling the game and giving passes to the forwards so that they can score, but we can see that is not always the case since the midfielders are scoring a lot of goals. Finally, the defenders score the least amount of goals since they are the once in charge to protect the goalie and not attacking."
   ]
  },
  {
   "cell_type": "markdown",
   "metadata": {},
   "source": [
    "#### Average goals per player in each position"
   ]
  },
  {
   "cell_type": "markdown",
   "metadata": {},
   "source": [
    "However, just looking at the total number of goals by position is not enough since there might be more players in one position than another. To support the claim of which position scores the most we take the average of goals scored per player. To determine the average of goals scored per player we first have to get the total number of players in each position."
   ]
  },
  {
   "cell_type": "code",
   "execution_count": 54,
   "metadata": {},
   "outputs": [
    {
     "data": {
      "text/plain": [
       "Position\n",
       "Defender       931\n",
       "Forward        637\n",
       "Midfielder    1116\n",
       "Name: Name, dtype: int64"
      ]
     },
     "execution_count": 54,
     "metadata": {},
     "output_type": "execute_result"
    }
   ],
   "source": [
    "player_pos_count = df.groupby('Position')['Name'].count()\n",
    "player_pos_count"
   ]
  },
  {
   "cell_type": "code",
   "execution_count": 55,
   "metadata": {},
   "outputs": [
    {
     "data": {
      "text/plain": [
       "<matplotlib.axes._subplots.AxesSubplot at 0x7f9e8f8bbd68>"
      ]
     },
     "execution_count": 55,
     "metadata": {},
     "output_type": "execute_result"
    },
    {
     "data": {
      "image/png": "[encoded data removed]",
      "text/plain": [
       "<Figure size 432x288 with 1 Axes>"
      ]
     },
     "metadata": {
      "needs_background": "light"
     },
     "output_type": "display_data"
    }
   ],
   "source": [
    "player_pos_count.plot.bar()"
   ]
  },
  {
   "cell_type": "markdown",
   "metadata": {},
   "source": [
    "After getting the total number of players in each position we divide the total number of goals per position by the total number of players per position."
   ]
  },
  {
   "cell_type": "code",
   "execution_count": 56,
   "metadata": {},
   "outputs": [
    {
     "data": {
      "text/plain": [
       "Position\n",
       "Defender      0.679914\n",
       "Forward       3.918367\n",
       "Midfielder    1.799283\n",
       "dtype: float64"
      ]
     },
     "execution_count": 56,
     "metadata": {},
     "output_type": "execute_result"
    }
   ],
   "source": [
    "goals_pos/player_pos_count"
   ]
  },
  {
   "cell_type": "markdown",
   "metadata": {},
   "source": [
    "Looking at the data above we can claim that the position that scores the most goals is the forward position. We can see that the players in the forward position average almost 4 goals per player while the midfileders average almost 2 goals per player. Moreover, when we look at the bar garph of total number of players per position we can see that there are way more midfielders than forwards. In addition, when we look at the top scorers for each league we can see that all the players are forwards which gives us evidence that there is a correlation between the players position and scoring goals."
   ]
  },
  {
   "cell_type": "markdown",
   "metadata": {},
   "source": [
    "### La Liga League Linear Regression: Total Goals vs Year"
   ]
  },
  {
   "cell_type": "markdown",
   "metadata": {},
   "source": [
    "Getting started by getting all the data for each year"
   ]
  },
  {
   "cell_type": "code",
   "execution_count": 57,
   "metadata": {},
   "outputs": [],
   "source": [
    "response = requests.get(\"https://www.statbunker.com/competitions/PlayerStandings?comp_id=212\")\n",
    "soup = BeautifulSoup(response.content, \"html.parser\")\n",
    "\n",
    "laliga_years = []\n",
    "\n",
    "items = soup.findAll(\"tr\", {\"class\": [\"Forward\", \"Midfielder\", \"Defender\"]})\n",
    "\n",
    "for players in items:\n",
    "    name = players.find(\"td\", \"mob tdInline\").contents[0]\n",
    "    team = players.find(\"td\", \"nonMob\").contents[0]\n",
    "    pos = players.find(\"td\", \"nonMob\").find_next(\"td\").contents[0]\n",
    "    appear = players.find(\"td\", \"nonMob\").find_next(\"td\").find_next(\"td\").contents[0]\n",
    "    goals = players.find(\"td\", {\"title\": \"Goals\"}).contents[0]\n",
    "    assists = players.find(\"td\", {\"title\": \"Assists\"}).contents[0]\n",
    "    yellow = players.find(\"td\", {\"title\": \"Yellow\"}).contents[0]\n",
    "    yellow_red = players.find(\"td\", {\"title\": \"Yellow-Red\"}).contents[0]\n",
    "    red = players.find(\"td\", {\"title\": \"Red\"}).contents[0]\n",
    "\n",
    "    laliga_years.append({\n",
    "        \"Name\": name,\n",
    "        \"Team\": team,\n",
    "        \"Position\": pos,\n",
    "        \"Appearances\": appear,\n",
    "        \"Goals\": goals,\n",
    "        \"Assists\": assists,\n",
    "        \"Yellow\": yellow,\n",
    "        \"Yellow-Red\": yellow_red,\n",
    "        \"Red\": red,\n",
    "        \"Year\": \"2007\"\n",
    "    }) "
   ]
  },
  {
   "cell_type": "code",
   "execution_count": 58,
   "metadata": {},
   "outputs": [],
   "source": [
    "response = requests.get(\"https://www.statbunker.com/competitions/PlayerStandings?comp_id=259\")\n",
    "soup = BeautifulSoup(response.content, \"html.parser\")\n",
    "\n",
    "items = soup.findAll(\"tr\", {\"class\": [\"Forward\", \"Midfielder\", \"Defender\"]})\n",
    "\n",
    "for players in items:\n",
    "    name = players.find(\"td\", \"mob tdInline\").contents[0]\n",
    "    team = players.find(\"td\", \"nonMob\").contents[0]\n",
    "    pos = players.find(\"td\", \"nonMob\").find_next(\"td\").contents[0]\n",
    "    appear = players.find(\"td\", \"nonMob\").find_next(\"td\").find_next(\"td\").contents[0]\n",
    "    goals = players.find(\"td\", {\"title\": \"Goals\"}).contents[0]\n",
    "    assists = players.find(\"td\", {\"title\": \"Assists\"}).contents[0]\n",
    "    yellow = players.find(\"td\", {\"title\": \"Yellow\"}).contents[0]\n",
    "    yellow_red = players.find(\"td\", {\"title\": \"Yellow-Red\"}).contents[0]\n",
    "    red = players.find(\"td\", {\"title\": \"Red\"}).contents[0]\n",
    "\n",
    "    laliga_years.append({\n",
    "        \"Name\": name,\n",
    "        \"Team\": team,\n",
    "        \"Position\": pos,\n",
    "        \"Appearances\": appear,\n",
    "        \"Goals\": goals,\n",
    "        \"Assists\": assists,\n",
    "        \"Yellow\": yellow,\n",
    "        \"Yellow-Red\": yellow_red,\n",
    "        \"Red\": red,\n",
    "        \"Year\": \"2008\"\n",
    "    }) "
   ]
  },
  {
   "cell_type": "code",
   "execution_count": 59,
   "metadata": {},
   "outputs": [],
   "source": [
    "response = requests.get(\"https://www.statbunker.com/competitions/PlayerStandings?comp_id=293\")\n",
    "soup = BeautifulSoup(response.content, \"html.parser\")\n",
    "\n",
    "items = soup.findAll(\"tr\", {\"class\": [\"Forward\", \"Midfielder\", \"Defender\"]})\n",
    "\n",
    "for players in items:\n",
    "    name = players.find(\"td\", \"mob tdInline\").contents[0]\n",
    "    team = players.find(\"td\", \"nonMob\").contents[0]\n",
    "    pos = players.find(\"td\", \"nonMob\").find_next(\"td\").contents[0]\n",
    "    appear = players.find(\"td\", \"nonMob\").find_next(\"td\").find_next(\"td\").contents[0]\n",
    "    goals = players.find(\"td\", {\"title\": \"Goals\"}).contents[0]\n",
    "    assists = players.find(\"td\", {\"title\": \"Assists\"}).contents[0]\n",
    "    yellow = players.find(\"td\", {\"title\": \"Yellow\"}).contents[0]\n",
    "    yellow_red = players.find(\"td\", {\"title\": \"Yellow-Red\"}).contents[0]\n",
    "    red = players.find(\"td\", {\"title\": \"Red\"}).contents[0]\n",
    "\n",
    "    laliga_years.append({\n",
    "        \"Name\": name,\n",
    "        \"Team\": team,\n",
    "        \"Position\": pos,\n",
    "        \"Appearances\": appear,\n",
    "        \"Goals\": goals,\n",
    "        \"Assists\": assists,\n",
    "        \"Yellow\": yellow,\n",
    "        \"Yellow-Red\": yellow_red,\n",
    "        \"Red\": red,\n",
    "        \"Year\": \"2009\"\n",
    "    }) "
   ]
  },
  {
   "cell_type": "code",
   "execution_count": 60,
   "metadata": {},
   "outputs": [],
   "source": [
    "response = requests.get(\"https://www.statbunker.com/competitions/PlayerStandings?comp_id=336\")\n",
    "soup = BeautifulSoup(response.content, \"html.parser\")\n",
    "\n",
    "items = soup.findAll(\"tr\", {\"class\": [\"Forward\", \"Midfielder\", \"Defender\"]})\n",
    "\n",
    "for players in items:\n",
    "    name = players.find(\"td\", \"mob tdInline\").contents[0]\n",
    "    team = players.find(\"td\", \"nonMob\").contents[0]\n",
    "    pos = players.find(\"td\", \"nonMob\").find_next(\"td\").contents[0]\n",
    "    appear = players.find(\"td\", \"nonMob\").find_next(\"td\").find_next(\"td\").contents[0]\n",
    "    goals = players.find(\"td\", {\"title\": \"Goals\"}).contents[0]\n",
    "    assists = players.find(\"td\", {\"title\": \"Assists\"}).contents[0]\n",
    "    yellow = players.find(\"td\", {\"title\": \"Yellow\"}).contents[0]\n",
    "    yellow_red = players.find(\"td\", {\"title\": \"Yellow-Red\"}).contents[0]\n",
    "    red = players.find(\"td\", {\"title\": \"Red\"}).contents[0]\n",
    "\n",
    "    laliga_years.append({\n",
    "        \"Name\": name,\n",
    "        \"Team\": team,\n",
    "        \"Position\": pos,\n",
    "        \"Appearances\": appear,\n",
    "        \"Goals\": goals,\n",
    "        \"Assists\": assists,\n",
    "        \"Yellow\": yellow,\n",
    "        \"Yellow-Red\": yellow_red,\n",
    "        \"Red\": red,\n",
    "        \"Year\": \"2010\"\n",
    "    }) "
   ]
  },
  {
   "cell_type": "code",
   "execution_count": 61,
   "metadata": {},
   "outputs": [],
   "source": [
    "response = requests.get(\"https://www.statbunker.com/competitions/PlayerStandings?comp_id=378\")\n",
    "soup = BeautifulSoup(response.content, \"html.parser\")\n",
    "\n",
    "items = soup.findAll(\"tr\", {\"class\": [\"Forward\", \"Midfielder\", \"Defender\"]})\n",
    "\n",
    "for players in items:\n",
    "    name = players.find(\"td\", \"mob tdInline\").contents[0]\n",
    "    team = players.find(\"td\", \"nonMob\").contents[0]\n",
    "    pos = players.find(\"td\", \"nonMob\").find_next(\"td\").contents[0]\n",
    "    appear = players.find(\"td\", \"nonMob\").find_next(\"td\").find_next(\"td\").contents[0]\n",
    "    goals = players.find(\"td\", {\"title\": \"Goals\"}).contents[0]\n",
    "    assists = players.find(\"td\", {\"title\": \"Assists\"}).contents[0]\n",
    "    yellow = players.find(\"td\", {\"title\": \"Yellow\"}).contents[0]\n",
    "    yellow_red = players.find(\"td\", {\"title\": \"Yellow-Red\"}).contents[0]\n",
    "    red = players.find(\"td\", {\"title\": \"Red\"}).contents[0]\n",
    "\n",
    "    laliga_years.append({\n",
    "        \"Name\": name,\n",
    "        \"Team\": team,\n",
    "        \"Position\": pos,\n",
    "        \"Appearances\": appear,\n",
    "        \"Goals\": goals,\n",
    "        \"Assists\": assists,\n",
    "        \"Yellow\": yellow,\n",
    "        \"Yellow-Red\": yellow_red,\n",
    "        \"Red\": red,\n",
    "        \"Year\": \"2011\"\n",
    "    }) "
   ]
  },
  {
   "cell_type": "code",
   "execution_count": 62,
   "metadata": {},
   "outputs": [],
   "source": [
    "response = requests.get(\"https://www.statbunker.com/competitions/PlayerStandings?comp_id=413\")\n",
    "soup = BeautifulSoup(response.content, \"html.parser\")\n",
    "\n",
    "items = soup.findAll(\"tr\", {\"class\": [\"Forward\", \"Midfielder\", \"Defender\"]})\n",
    "\n",
    "for players in items:\n",
    "    name = players.find(\"td\", \"mob tdInline\").contents[0]\n",
    "    team = players.find(\"td\", \"nonMob\").contents[0]\n",
    "    pos = players.find(\"td\", \"nonMob\").find_next(\"td\").contents[0]\n",
    "    appear = players.find(\"td\", \"nonMob\").find_next(\"td\").find_next(\"td\").contents[0]\n",
    "    goals = players.find(\"td\", {\"title\": \"Goals\"}).contents[0]\n",
    "    assists = players.find(\"td\", {\"title\": \"Assists\"}).contents[0]\n",
    "    yellow = players.find(\"td\", {\"title\": \"Yellow\"}).contents[0]\n",
    "    yellow_red = players.find(\"td\", {\"title\": \"Yellow-Red\"}).contents[0]\n",
    "    red = players.find(\"td\", {\"title\": \"Red\"}).contents[0]\n",
    "\n",
    "    laliga_years.append({\n",
    "        \"Name\": name,\n",
    "        \"Team\": team,\n",
    "        \"Position\": pos,\n",
    "        \"Appearances\": appear,\n",
    "        \"Goals\": goals,\n",
    "        \"Assists\": assists,\n",
    "        \"Yellow\": yellow,\n",
    "        \"Yellow-Red\": yellow_red,\n",
    "        \"Red\": red,\n",
    "        \"Year\": \"2012\"\n",
    "    }) "
   ]
  },
  {
   "cell_type": "code",
   "execution_count": 63,
   "metadata": {},
   "outputs": [],
   "source": [
    "response = requests.get(\"https://www.statbunker.com/competitions/PlayerStandings?comp_id=461\")\n",
    "soup = BeautifulSoup(response.content, \"html.parser\")\n",
    "\n",
    "items = soup.findAll(\"tr\", {\"class\": [\"Forward\", \"Midfielder\", \"Defender\"]})\n",
    "\n",
    "for players in items:\n",
    "    name = players.find(\"td\", \"mob tdInline\").contents[0]\n",
    "    team = players.find(\"td\", \"nonMob\").contents[0]\n",
    "    pos = players.find(\"td\", \"nonMob\").find_next(\"td\").contents[0]\n",
    "    appear = players.find(\"td\", \"nonMob\").find_next(\"td\").find_next(\"td\").contents[0]\n",
    "    goals = players.find(\"td\", {\"title\": \"Goals\"}).contents[0]\n",
    "    assists = players.find(\"td\", {\"title\": \"Assists\"}).contents[0]\n",
    "    yellow = players.find(\"td\", {\"title\": \"Yellow\"}).contents[0]\n",
    "    yellow_red = players.find(\"td\", {\"title\": \"Yellow-Red\"}).contents[0]\n",
    "    red = players.find(\"td\", {\"title\": \"Red\"}).contents[0]\n",
    "\n",
    "    laliga_years.append({\n",
    "        \"Name\": name,\n",
    "        \"Team\": team,\n",
    "        \"Position\": pos,\n",
    "        \"Appearances\": appear,\n",
    "        \"Goals\": goals,\n",
    "        \"Assists\": assists,\n",
    "        \"Yellow\": yellow,\n",
    "        \"Yellow-Red\": yellow_red,\n",
    "        \"Red\": red,\n",
    "        \"Year\": \"2013\"\n",
    "    }) "
   ]
  },
  {
   "cell_type": "code",
   "execution_count": 64,
   "metadata": {},
   "outputs": [],
   "source": [
    "response = requests.get(\"https://www.statbunker.com/competitions/PlayerStandings?comp_id=485\")\n",
    "soup = BeautifulSoup(response.content, \"html.parser\")\n",
    "\n",
    "items = soup.findAll(\"tr\", {\"class\": [\"Forward\", \"Midfielder\", \"Defender\"]})\n",
    "\n",
    "for players in items:\n",
    "    name = players.find(\"td\", \"mob tdInline\").contents[0]\n",
    "    team = players.find(\"td\", \"nonMob\").contents[0]\n",
    "    pos = players.find(\"td\", \"nonMob\").find_next(\"td\").contents[0]\n",
    "    appear = players.find(\"td\", \"nonMob\").find_next(\"td\").find_next(\"td\").contents[0]\n",
    "    goals = players.find(\"td\", {\"title\": \"Goals\"}).contents[0]\n",
    "    assists = players.find(\"td\", {\"title\": \"Assists\"}).contents[0]\n",
    "    yellow = players.find(\"td\", {\"title\": \"Yellow\"}).contents[0]\n",
    "    yellow_red = players.find(\"td\", {\"title\": \"Yellow-Red\"}).contents[0]\n",
    "    red = players.find(\"td\", {\"title\": \"Red\"}).contents[0]\n",
    "\n",
    "    laliga_years.append({\n",
    "        \"Name\": name,\n",
    "        \"Team\": team,\n",
    "        \"Position\": pos,\n",
    "        \"Appearances\": appear,\n",
    "        \"Goals\": goals,\n",
    "        \"Assists\": assists,\n",
    "        \"Yellow\": yellow,\n",
    "        \"Yellow-Red\": yellow_red,\n",
    "        \"Red\": red,\n",
    "        \"Year\": \"2014\"\n",
    "    }) "
   ]
  },
  {
   "cell_type": "code",
   "execution_count": 65,
   "metadata": {},
   "outputs": [],
   "source": [
    "response = requests.get(\"https://www.statbunker.com/competitions/PlayerStandings?comp_id=518\")\n",
    "soup = BeautifulSoup(response.content, \"html.parser\")\n",
    "\n",
    "items = soup.findAll(\"tr\", {\"class\": [\"Forward\", \"Midfielder\", \"Defender\"]})\n",
    "\n",
    "for players in items:\n",
    "    name = players.find(\"td\", \"mob tdInline\").contents[0]\n",
    "    team = players.find(\"td\", \"nonMob\").contents[0]\n",
    "    pos = players.find(\"td\", \"nonMob\").find_next(\"td\").contents[0]\n",
    "    appear = players.find(\"td\", \"nonMob\").find_next(\"td\").find_next(\"td\").contents[0]\n",
    "    goals = players.find(\"td\", {\"title\": \"Goals\"}).contents[0]\n",
    "    assists = players.find(\"td\", {\"title\": \"Assists\"}).contents[0]\n",
    "    yellow = players.find(\"td\", {\"title\": \"Yellow\"}).contents[0]\n",
    "    yellow_red = players.find(\"td\", {\"title\": \"Yellow-Red\"}).contents[0]\n",
    "    red = players.find(\"td\", {\"title\": \"Red\"}).contents[0]\n",
    "\n",
    "    laliga_years.append({\n",
    "        \"Name\": name,\n",
    "        \"Team\": team,\n",
    "        \"Position\": pos,\n",
    "        \"Appearances\": appear,\n",
    "        \"Goals\": goals,\n",
    "        \"Assists\": assists,\n",
    "        \"Yellow\": yellow,\n",
    "        \"Yellow-Red\": yellow_red,\n",
    "        \"Red\": red,\n",
    "        \"Year\": \"2015\"\n",
    "    }) "
   ]
  },
  {
   "cell_type": "code",
   "execution_count": 66,
   "metadata": {},
   "outputs": [],
   "source": [
    "response = requests.get(\"https://www.statbunker.com/competitions/PlayerStandings?comp_id=564\")\n",
    "soup = BeautifulSoup(response.content, \"html.parser\")\n",
    "\n",
    "items = soup.findAll(\"tr\", {\"class\": [\"Forward\", \"Midfielder\", \"Defender\"]})\n",
    "\n",
    "for players in items:\n",
    "    name = players.find(\"td\", \"mob tdInline\").contents[0]\n",
    "    team = players.find(\"td\", \"nonMob\").contents[0]\n",
    "    pos = players.find(\"td\", \"nonMob\").find_next(\"td\").contents[0]\n",
    "    appear = players.find(\"td\", \"nonMob\").find_next(\"td\").find_next(\"td\").contents[0]\n",
    "    goals = players.find(\"td\", {\"title\": \"Goals\"}).contents[0]\n",
    "    assists = players.find(\"td\", {\"title\": \"Assists\"}).contents[0]\n",
    "    yellow = players.find(\"td\", {\"title\": \"Yellow\"}).contents[0]\n",
    "    yellow_red = players.find(\"td\", {\"title\": \"Yellow-Red\"}).contents[0]\n",
    "    red = players.find(\"td\", {\"title\": \"Red\"}).contents[0]\n",
    "\n",
    "    laliga_years.append({\n",
    "        \"Name\": name,\n",
    "        \"Team\": team,\n",
    "        \"Position\": pos,\n",
    "        \"Appearances\": appear,\n",
    "        \"Goals\": goals,\n",
    "        \"Assists\": assists,\n",
    "        \"Yellow\": yellow,\n",
    "        \"Yellow-Red\": yellow_red,\n",
    "        \"Red\": red,\n",
    "        \"Year\": \"2016\"\n",
    "    }) "
   ]
  },
  {
   "cell_type": "code",
   "execution_count": 67,
   "metadata": {},
   "outputs": [],
   "source": [
    "response = requests.get(\"https://www.statbunker.com/competitions/PlayerStandings?comp_id=600\")\n",
    "soup = BeautifulSoup(response.content, \"html.parser\")\n",
    "\n",
    "items = soup.findAll(\"tr\", {\"class\": [\"Forward\", \"Midfielder\", \"Defender\"]})\n",
    "\n",
    "for players in items:\n",
    "    name = players.find(\"td\", \"mob tdInline\").contents[0]\n",
    "    team = players.find(\"td\", \"nonMob\").contents[0]\n",
    "    pos = players.find(\"td\", \"nonMob\").find_next(\"td\").contents[0]\n",
    "    appear = players.find(\"td\", \"nonMob\").find_next(\"td\").find_next(\"td\").contents[0]\n",
    "    goals = players.find(\"td\", {\"title\": \"Goals\"}).contents[0]\n",
    "    assists = players.find(\"td\", {\"title\": \"Assists\"}).contents[0]\n",
    "    yellow = players.find(\"td\", {\"title\": \"Yellow\"}).contents[0]\n",
    "    yellow_red = players.find(\"td\", {\"title\": \"Yellow-Red\"}).contents[0]\n",
    "    red = players.find(\"td\", {\"title\": \"Red\"}).contents[0]\n",
    "\n",
    "    laliga_years.append({\n",
    "        \"Name\": name,\n",
    "        \"Team\": team,\n",
    "        \"Position\": pos,\n",
    "        \"Appearances\": appear,\n",
    "        \"Goals\": goals,\n",
    "        \"Assists\": assists,\n",
    "        \"Yellow\": yellow,\n",
    "        \"Yellow-Red\": yellow_red,\n",
    "        \"Red\": red,\n",
    "        \"Year\": \"2017\"\n",
    "    }) "
   ]
  },
  {
   "cell_type": "code",
   "execution_count": 68,
   "metadata": {},
   "outputs": [],
   "source": [
    "response = requests.get(\"https://www.statbunker.com/competitions/PlayerStandings?comp_id=622\")\n",
    "soup = BeautifulSoup(response.content, \"html.parser\")\n",
    "\n",
    "items = soup.findAll(\"tr\", {\"class\": [\"Forward\", \"Midfielder\", \"Defender\"]})\n",
    "\n",
    "for players in items:\n",
    "    name = players.find(\"td\", \"mob tdInline\").contents[0]\n",
    "    team = players.find(\"td\", \"nonMob\").contents[0]\n",
    "    pos = players.find(\"td\", \"nonMob\").find_next(\"td\").contents[0]\n",
    "    appear = players.find(\"td\", \"nonMob\").find_next(\"td\").find_next(\"td\").contents[0]\n",
    "    goals = players.find(\"td\", {\"title\": \"Goals\"}).contents[0]\n",
    "    assists = players.find(\"td\", {\"title\": \"Assists\"}).contents[0]\n",
    "    yellow = players.find(\"td\", {\"title\": \"Yellow\"}).contents[0]\n",
    "    yellow_red = players.find(\"td\", {\"title\": \"Yellow-Red\"}).contents[0]\n",
    "    red = players.find(\"td\", {\"title\": \"Red\"}).contents[0]\n",
    "\n",
    "    laliga_years.append({\n",
    "        \"Name\": name,\n",
    "        \"Team\": team,\n",
    "        \"Position\": pos,\n",
    "        \"Appearances\": appear,\n",
    "        \"Goals\": goals,\n",
    "        \"Assists\": assists,\n",
    "        \"Yellow\": yellow,\n",
    "        \"Yellow-Red\": yellow_red,\n",
    "        \"Red\": red,\n",
    "        \"Year\": \"2018\"\n",
    "    }) "
   ]
  },
  {
   "cell_type": "code",
   "execution_count": 69,
   "metadata": {},
   "outputs": [],
   "source": [
    "response = requests.get(\"https://www.statbunker.com/competitions/PlayerStandings?comp_id=648\")\n",
    "soup = BeautifulSoup(response.content, \"html.parser\")\n",
    "\n",
    "items = soup.findAll(\"tr\", {\"class\": [\"Forward\", \"Midfielder\", \"Defender\"]})\n",
    "\n",
    "for players in items:\n",
    "    name = players.find(\"td\", \"mob tdInline\").contents[0]\n",
    "    team = players.find(\"td\", \"nonMob\").contents[0]\n",
    "    pos = players.find(\"td\", \"nonMob\").find_next(\"td\").contents[0]\n",
    "    appear = players.find(\"td\", \"nonMob\").find_next(\"td\").find_next(\"td\").contents[0]\n",
    "    goals = players.find(\"td\", {\"title\": \"Goals\"}).contents[0]\n",
    "    assists = players.find(\"td\", {\"title\": \"Assists\"}).contents[0]\n",
    "    yellow = players.find(\"td\", {\"title\": \"Yellow\"}).contents[0]\n",
    "    yellow_red = players.find(\"td\", {\"title\": \"Yellow-Red\"}).contents[0]\n",
    "    red = players.find(\"td\", {\"title\": \"Red\"}).contents[0]\n",
    "\n",
    "    laliga_years.append({\n",
    "        \"Name\": name,\n",
    "        \"Team\": team,\n",
    "        \"Position\": pos,\n",
    "        \"Appearances\": appear,\n",
    "        \"Goals\": goals,\n",
    "        \"Assists\": assists,\n",
    "        \"Yellow\": yellow,\n",
    "        \"Yellow-Red\": yellow_red,\n",
    "        \"Red\": red,\n",
    "        \"Year\": \"2019\"\n",
    "    }) "
   ]
  },
  {
   "cell_type": "code",
   "execution_count": 70,
   "metadata": {},
   "outputs": [
    {
     "data": {
      "text/html": [
       "<div>\n",
       "<style scoped>\n",
       "    .dataframe tbody tr th:only-of-type {\n",
       "        vertical-align: middle;\n",
       "    }\n",
       "\n",
       "    .dataframe tbody tr th {\n",
       "        vertical-align: top;\n",
       "    }\n",
       "\n",
       "    .dataframe thead th {\n",
       "        text-align: right;\n",
       "    }\n",
       "</style>\n",
       "<table border=\"1\" class=\"dataframe\">\n",
       "  <thead>\n",
       "    <tr style=\"text-align: right;\">\n",
       "      <th></th>\n",
       "      <th>Name</th>\n",
       "      <th>Team</th>\n",
       "      <th>Position</th>\n",
       "      <th>Appearances</th>\n",
       "      <th>Goals</th>\n",
       "      <th>Assists</th>\n",
       "      <th>Yellow</th>\n",
       "      <th>Yellow-Red</th>\n",
       "      <th>Red</th>\n",
       "      <th>Year</th>\n",
       "    </tr>\n",
       "  </thead>\n",
       "  <tbody>\n",
       "    <tr>\n",
       "      <th>0</th>\n",
       "      <td>Fabricio Coloccini</td>\n",
       "      <td>Deportivo La Coruna</td>\n",
       "      <td>Defender</td>\n",
       "      <td>38</td>\n",
       "      <td>4</td>\n",
       "      <td>0</td>\n",
       "      <td>2</td>\n",
       "      <td>0</td>\n",
       "      <td>0</td>\n",
       "      <td>2007</td>\n",
       "    </tr>\n",
       "    <tr>\n",
       "      <th>1</th>\n",
       "      <td>Daniel Guiza</td>\n",
       "      <td>RCD Mallorca</td>\n",
       "      <td>Forward</td>\n",
       "      <td>38</td>\n",
       "      <td>27</td>\n",
       "      <td>0</td>\n",
       "      <td>5</td>\n",
       "      <td>1</td>\n",
       "      <td>0</td>\n",
       "      <td>2007</td>\n",
       "    </tr>\n",
       "    <tr>\n",
       "      <th>2</th>\n",
       "      <td>Gonzalo Colsa</td>\n",
       "      <td>Racing Santander</td>\n",
       "      <td>Midfielder</td>\n",
       "      <td>38</td>\n",
       "      <td>2</td>\n",
       "      <td>0</td>\n",
       "      <td>2</td>\n",
       "      <td>0</td>\n",
       "      <td>0</td>\n",
       "      <td>2007</td>\n",
       "    </tr>\n",
       "    <tr>\n",
       "      <th>3</th>\n",
       "      <td>Juan Arango</td>\n",
       "      <td>RCD Mallorca</td>\n",
       "      <td>Midfielder</td>\n",
       "      <td>38</td>\n",
       "      <td>12</td>\n",
       "      <td>0</td>\n",
       "      <td>0</td>\n",
       "      <td>0</td>\n",
       "      <td>0</td>\n",
       "      <td>2007</td>\n",
       "    </tr>\n",
       "    <tr>\n",
       "      <th>4</th>\n",
       "      <td>Javier Camunas</td>\n",
       "      <td>Recreativo</td>\n",
       "      <td>Forward</td>\n",
       "      <td>37</td>\n",
       "      <td>5</td>\n",
       "      <td>0</td>\n",
       "      <td>6</td>\n",
       "      <td>0</td>\n",
       "      <td>0</td>\n",
       "      <td>2007</td>\n",
       "    </tr>\n",
       "    <tr>\n",
       "      <th>...</th>\n",
       "      <td>...</td>\n",
       "      <td>...</td>\n",
       "      <td>...</td>\n",
       "      <td>...</td>\n",
       "      <td>...</td>\n",
       "      <td>...</td>\n",
       "      <td>...</td>\n",
       "      <td>...</td>\n",
       "      <td>...</td>\n",
       "      <td>...</td>\n",
       "    </tr>\n",
       "    <tr>\n",
       "      <th>6995</th>\n",
       "      <td>Jose Trapaga</td>\n",
       "      <td>Real Betis</td>\n",
       "      <td>Defender</td>\n",
       "      <td>0</td>\n",
       "      <td>0</td>\n",
       "      <td>0</td>\n",
       "      <td>0</td>\n",
       "      <td>0</td>\n",
       "      <td>0</td>\n",
       "      <td>2019</td>\n",
       "    </tr>\n",
       "    <tr>\n",
       "      <th>6996</th>\n",
       "      <td>Rafa Navarro</td>\n",
       "      <td>CD Alaves</td>\n",
       "      <td>Defender</td>\n",
       "      <td>0</td>\n",
       "      <td>0</td>\n",
       "      <td>0</td>\n",
       "      <td>0</td>\n",
       "      <td>0</td>\n",
       "      <td>0</td>\n",
       "      <td>2019</td>\n",
       "    </tr>\n",
       "    <tr>\n",
       "      <th>6997</th>\n",
       "      <td>Andrei Ratiu</td>\n",
       "      <td>Villarreal</td>\n",
       "      <td>Midfielder</td>\n",
       "      <td>0</td>\n",
       "      <td>0</td>\n",
       "      <td>0</td>\n",
       "      <td>0</td>\n",
       "      <td>0</td>\n",
       "      <td>0</td>\n",
       "      <td>2019</td>\n",
       "    </tr>\n",
       "    <tr>\n",
       "      <th>6998</th>\n",
       "      <td>Daniel Torres</td>\n",
       "      <td>CD Alaves</td>\n",
       "      <td>Midfielder</td>\n",
       "      <td>0</td>\n",
       "      <td>0</td>\n",
       "      <td>0</td>\n",
       "      <td>0</td>\n",
       "      <td>0</td>\n",
       "      <td>0</td>\n",
       "      <td>2019</td>\n",
       "    </tr>\n",
       "    <tr>\n",
       "      <th>6999</th>\n",
       "      <td>Ivan Martinez</td>\n",
       "      <td>Villarreal</td>\n",
       "      <td>Forward</td>\n",
       "      <td>0</td>\n",
       "      <td>0</td>\n",
       "      <td>0</td>\n",
       "      <td>0</td>\n",
       "      <td>0</td>\n",
       "      <td>0</td>\n",
       "      <td>2019</td>\n",
       "    </tr>\n",
       "  </tbody>\n",
       "</table>\n",
       "<p>7000 rows × 10 columns</p>\n",
       "</div>"
      ],
      "text/plain": [
       "                    Name                 Team    Position Appearances Goals  \\\n",
       "0     Fabricio Coloccini  Deportivo La Coruna    Defender          38     4   \n",
       "1           Daniel Guiza         RCD Mallorca     Forward          38    27   \n",
       "2          Gonzalo Colsa     Racing Santander  Midfielder          38     2   \n",
       "3            Juan Arango         RCD Mallorca  Midfielder          38    12   \n",
       "4         Javier Camunas           Recreativo     Forward          37     5   \n",
       "...                  ...                  ...         ...         ...   ...   \n",
       "6995        Jose Trapaga           Real Betis    Defender           0     0   \n",
       "6996        Rafa Navarro            CD Alaves    Defender           0     0   \n",
       "6997        Andrei Ratiu           Villarreal  Midfielder           0     0   \n",
       "6998       Daniel Torres            CD Alaves  Midfielder           0     0   \n",
       "6999       Ivan Martinez           Villarreal     Forward           0     0   \n",
       "\n",
       "     Assists Yellow Yellow-Red Red  Year  \n",
       "0          0      2          0   0  2007  \n",
       "1          0      5          1   0  2007  \n",
       "2          0      2          0   0  2007  \n",
       "3          0      0          0   0  2007  \n",
       "4          0      6          0   0  2007  \n",
       "...      ...    ...        ...  ..   ...  \n",
       "6995       0      0          0   0  2019  \n",
       "6996       0      0          0   0  2019  \n",
       "6997       0      0          0   0  2019  \n",
       "6998       0      0          0   0  2019  \n",
       "6999       0      0          0   0  2019  \n",
       "\n",
       "[7000 rows x 10 columns]"
      ]
     },
     "execution_count": 70,
     "metadata": {},
     "output_type": "execute_result"
    }
   ],
   "source": [
    "df_laliga_years = pd.DataFrame(laliga_years)\n",
    "df_laliga_years"
   ]
  },
  {
   "cell_type": "markdown",
   "metadata": {},
   "source": [
    "Now we have our data frame of combination of Laliga years."
   ]
  },
  {
   "cell_type": "code",
   "execution_count": 71,
   "metadata": {},
   "outputs": [
    {
     "name": "stdout",
     "output_type": "stream",
     "text": [
      "[{'date': 2007, 'goals': 1000}, {'date': 2008, 'goals': 1081}, {'date': 2009, 'goals': 1010}, {'date': 2010, 'goals': 1017}, {'date': 2011, 'goals': 1018}, {'date': 2012, 'goals': 1063}, {'date': 2013, 'goals': 1017}, {'date': 2014, 'goals': 980}, {'date': 2015, 'goals': 1012}, {'date': 2016, 'goals': 1093}, {'date': 2017, 'goals': 996}, {'date': 2018, 'goals': 955}, {'date': 2019, 'goals': 924}]\n"
     ]
    }
   ],
   "source": [
    "laliga_07 = df_laliga_years[df_laliga_years[\"Year\"] == \"2007\"].Goals.astype(int).sum()\n",
    "laliga_08 = df_laliga_years[df_laliga_years[\"Year\"] == \"2008\"].Goals.astype(int).sum()\n",
    "laliga_09 = df_laliga_years[df_laliga_years[\"Year\"] == \"2009\"].Goals.astype(int).sum()\n",
    "laliga_10 = df_laliga_years[df_laliga_years[\"Year\"] == \"2010\"].Goals.astype(int).sum()\n",
    "laliga_11 = df_laliga_years[df_laliga_years[\"Year\"] == \"2011\"].Goals.astype(int).sum()\n",
    "laliga_12 = df_laliga_years[df_laliga_years[\"Year\"] == \"2012\"].Goals.astype(int).sum()\n",
    "laliga_13 = df_laliga_years[df_laliga_years[\"Year\"] == \"2013\"].Goals.astype(int).sum()\n",
    "laliga_14 = df_laliga_years[df_laliga_years[\"Year\"] == \"2014\"].Goals.astype(int).sum()\n",
    "laliga_15 = df_laliga_years[df_laliga_years[\"Year\"] == \"2015\"].Goals.astype(int).sum()\n",
    "laliga_16 = df_laliga_years[df_laliga_years[\"Year\"] == \"2016\"].Goals.astype(int).sum()\n",
    "laliga_17 = df_laliga_years[df_laliga_years[\"Year\"] == \"2017\"].Goals.astype(int).sum()\n",
    "laliga_18 = df_laliga_years[df_laliga_years[\"Year\"] == \"2018\"].Goals.astype(int).sum()\n",
    "laliga_19 = df_laliga_years[df_laliga_years[\"Year\"] == \"2019\"].Goals.astype(int).sum()\n",
    "\n",
    "laliga_year_data = [\n",
    "    {\n",
    "        \"date\": 2007,\n",
    "        \"goals\": laliga_07\n",
    "    },\n",
    "    {\n",
    "        \"date\": 2008,\n",
    "        \"goals\": laliga_08\n",
    "    },\n",
    "    {\n",
    "        \"date\": 2009,\n",
    "        \"goals\": laliga_09\n",
    "    },\n",
    "    {\n",
    "        \"date\": 2010,\n",
    "        \"goals\": laliga_10\n",
    "    },\n",
    "    {\n",
    "        \"date\": 2011,\n",
    "        \"goals\": laliga_11\n",
    "    },\n",
    "    {\n",
    "        \"date\": 2012,\n",
    "        \"goals\": laliga_12\n",
    "    },\n",
    "    {\n",
    "        \"date\": 2013,\n",
    "        \"goals\": laliga_13\n",
    "    },\n",
    "    {\n",
    "        \"date\": 2014,\n",
    "        \"goals\": laliga_14\n",
    "    },\n",
    "    {\n",
    "        \"date\": 2015,\n",
    "        \"goals\": laliga_15\n",
    "    },\n",
    "    {\n",
    "        \"date\": 2016,\n",
    "        \"goals\": laliga_16\n",
    "    },\n",
    "    {\n",
    "        \"date\": 2017,\n",
    "        \"goals\": laliga_17\n",
    "    },\n",
    "    {\n",
    "        \"date\": 2018,\n",
    "        \"goals\": laliga_18\n",
    "    },\n",
    "    {\n",
    "        \"date\": 2019,\n",
    "        \"goals\": laliga_19\n",
    "    }\n",
    "        \n",
    "]\n",
    "\n",
    "print(laliga_year_data)"
   ]
  },
  {
   "cell_type": "code",
   "execution_count": 72,
   "metadata": {},
   "outputs": [
    {
     "data": {
      "text/html": [
       "<div>\n",
       "<style scoped>\n",
       "    .dataframe tbody tr th:only-of-type {\n",
       "        vertical-align: middle;\n",
       "    }\n",
       "\n",
       "    .dataframe tbody tr th {\n",
       "        vertical-align: top;\n",
       "    }\n",
       "\n",
       "    .dataframe thead th {\n",
       "        text-align: right;\n",
       "    }\n",
       "</style>\n",
       "<table border=\"1\" class=\"dataframe\">\n",
       "  <thead>\n",
       "    <tr style=\"text-align: right;\">\n",
       "      <th></th>\n",
       "      <th>date</th>\n",
       "      <th>goals</th>\n",
       "    </tr>\n",
       "  </thead>\n",
       "  <tbody>\n",
       "    <tr>\n",
       "      <th>0</th>\n",
       "      <td>2007</td>\n",
       "      <td>1000</td>\n",
       "    </tr>\n",
       "    <tr>\n",
       "      <th>1</th>\n",
       "      <td>2008</td>\n",
       "      <td>1081</td>\n",
       "    </tr>\n",
       "    <tr>\n",
       "      <th>2</th>\n",
       "      <td>2009</td>\n",
       "      <td>1010</td>\n",
       "    </tr>\n",
       "    <tr>\n",
       "      <th>3</th>\n",
       "      <td>2010</td>\n",
       "      <td>1017</td>\n",
       "    </tr>\n",
       "    <tr>\n",
       "      <th>4</th>\n",
       "      <td>2011</td>\n",
       "      <td>1018</td>\n",
       "    </tr>\n",
       "    <tr>\n",
       "      <th>5</th>\n",
       "      <td>2012</td>\n",
       "      <td>1063</td>\n",
       "    </tr>\n",
       "    <tr>\n",
       "      <th>6</th>\n",
       "      <td>2013</td>\n",
       "      <td>1017</td>\n",
       "    </tr>\n",
       "    <tr>\n",
       "      <th>7</th>\n",
       "      <td>2014</td>\n",
       "      <td>980</td>\n",
       "    </tr>\n",
       "    <tr>\n",
       "      <th>8</th>\n",
       "      <td>2015</td>\n",
       "      <td>1012</td>\n",
       "    </tr>\n",
       "    <tr>\n",
       "      <th>9</th>\n",
       "      <td>2016</td>\n",
       "      <td>1093</td>\n",
       "    </tr>\n",
       "    <tr>\n",
       "      <th>10</th>\n",
       "      <td>2017</td>\n",
       "      <td>996</td>\n",
       "    </tr>\n",
       "    <tr>\n",
       "      <th>11</th>\n",
       "      <td>2018</td>\n",
       "      <td>955</td>\n",
       "    </tr>\n",
       "    <tr>\n",
       "      <th>12</th>\n",
       "      <td>2019</td>\n",
       "      <td>924</td>\n",
       "    </tr>\n",
       "  </tbody>\n",
       "</table>\n",
       "</div>"
      ],
      "text/plain": [
       "    date  goals\n",
       "0   2007   1000\n",
       "1   2008   1081\n",
       "2   2009   1010\n",
       "3   2010   1017\n",
       "4   2011   1018\n",
       "5   2012   1063\n",
       "6   2013   1017\n",
       "7   2014    980\n",
       "8   2015   1012\n",
       "9   2016   1093\n",
       "10  2017    996\n",
       "11  2018    955\n",
       "12  2019    924"
      ]
     },
     "execution_count": 72,
     "metadata": {},
     "output_type": "execute_result"
    }
   ],
   "source": [
    "df_laliga_year_data = pd.DataFrame(laliga_year_data)\n",
    "df_laliga_year_data"
   ]
  },
  {
   "cell_type": "code",
   "execution_count": 73,
   "metadata": {},
   "outputs": [],
   "source": [
    "X = df_laliga_year_data.iloc[:, 0].values.reshape(-1, 1)  # values converts it into a numpy array\n",
    "Y = df_laliga_year_data.iloc[:, 1].values.reshape(-1, 1)  # -1 means that calculate the dimension of rows, but have 1 column\n",
    "linear_regressor = LinearRegression()  # create object for the class\n",
    "linear_regressor.fit(X, Y)  # perform linear regression\n",
    "Y_pred = linear_regressor.predict(X)  # make predictions"
   ]
  },
  {
   "cell_type": "code",
   "execution_count": 74,
   "metadata": {},
   "outputs": [
    {
     "data": {
      "image/png": "[encoded data removed]",
      "text/plain": [
       "<Figure size 432x288 with 1 Axes>"
      ]
     },
     "metadata": {
      "needs_background": "light"
     },
     "output_type": "display_data"
    }
   ],
   "source": [
    "plt.scatter(X, Y)\n",
    "plt.plot(X, Y_pred, color='red')\n",
    "plt.show()"
   ]
  },
  {
   "cell_type": "markdown",
   "metadata": {},
   "source": [
    "There's not many points for our linear regression prediction, but it's showning that the number of goals is on a downwards trends."
   ]
  },
  {
   "cell_type": "markdown",
   "metadata": {},
   "source": [
    "### Lionel Messi (LaLiga top scorer for 2019) Linear Regression"
   ]
  },
  {
   "cell_type": "code",
   "execution_count": 75,
   "metadata": {},
   "outputs": [
    {
     "data": {
      "text/html": [
       "<div>\n",
       "<style scoped>\n",
       "    .dataframe tbody tr th:only-of-type {\n",
       "        vertical-align: middle;\n",
       "    }\n",
       "\n",
       "    .dataframe tbody tr th {\n",
       "        vertical-align: top;\n",
       "    }\n",
       "\n",
       "    .dataframe thead th {\n",
       "        text-align: right;\n",
       "    }\n",
       "</style>\n",
       "<table border=\"1\" class=\"dataframe\">\n",
       "  <thead>\n",
       "    <tr style=\"text-align: right;\">\n",
       "      <th></th>\n",
       "      <th>Name</th>\n",
       "      <th>Team</th>\n",
       "      <th>Position</th>\n",
       "      <th>Appearances</th>\n",
       "      <th>Goals</th>\n",
       "      <th>Assists</th>\n",
       "      <th>Yellow</th>\n",
       "      <th>Yellow-Red</th>\n",
       "      <th>Red</th>\n",
       "      <th>Year</th>\n",
       "    </tr>\n",
       "  </thead>\n",
       "  <tbody>\n",
       "    <tr>\n",
       "      <th>0</th>\n",
       "      <td>Lionel Messi</td>\n",
       "      <td>Barcelona</td>\n",
       "      <td>Forward</td>\n",
       "      <td>28</td>\n",
       "      <td>10</td>\n",
       "      <td>0</td>\n",
       "      <td>2</td>\n",
       "      <td>0</td>\n",
       "      <td>0</td>\n",
       "      <td>2007</td>\n",
       "    </tr>\n",
       "    <tr>\n",
       "      <th>1</th>\n",
       "      <td>Lionel Messi</td>\n",
       "      <td>Barcelona</td>\n",
       "      <td>Forward</td>\n",
       "      <td>31</td>\n",
       "      <td>23</td>\n",
       "      <td>6</td>\n",
       "      <td>2</td>\n",
       "      <td>0</td>\n",
       "      <td>0</td>\n",
       "      <td>2008</td>\n",
       "    </tr>\n",
       "    <tr>\n",
       "      <th>2</th>\n",
       "      <td>Lionel Messi</td>\n",
       "      <td>Barcelona</td>\n",
       "      <td>Forward</td>\n",
       "      <td>35</td>\n",
       "      <td>34</td>\n",
       "      <td>8</td>\n",
       "      <td>3</td>\n",
       "      <td>0</td>\n",
       "      <td>0</td>\n",
       "      <td>2009</td>\n",
       "    </tr>\n",
       "    <tr>\n",
       "      <th>3</th>\n",
       "      <td>Lionel Messi</td>\n",
       "      <td>Barcelona</td>\n",
       "      <td>Forward</td>\n",
       "      <td>33</td>\n",
       "      <td>31</td>\n",
       "      <td>17</td>\n",
       "      <td>3</td>\n",
       "      <td>0</td>\n",
       "      <td>0</td>\n",
       "      <td>2010</td>\n",
       "    </tr>\n",
       "    <tr>\n",
       "      <th>4</th>\n",
       "      <td>Lionel Messi</td>\n",
       "      <td>Barcelona</td>\n",
       "      <td>Forward</td>\n",
       "      <td>37</td>\n",
       "      <td>50</td>\n",
       "      <td>17</td>\n",
       "      <td>6</td>\n",
       "      <td>0</td>\n",
       "      <td>0</td>\n",
       "      <td>2011</td>\n",
       "    </tr>\n",
       "    <tr>\n",
       "      <th>5</th>\n",
       "      <td>Lionel Messi</td>\n",
       "      <td>Barcelona</td>\n",
       "      <td>Forward</td>\n",
       "      <td>32</td>\n",
       "      <td>46</td>\n",
       "      <td>12</td>\n",
       "      <td>1</td>\n",
       "      <td>0</td>\n",
       "      <td>0</td>\n",
       "      <td>2012</td>\n",
       "    </tr>\n",
       "    <tr>\n",
       "      <th>6</th>\n",
       "      <td>Lionel Messi</td>\n",
       "      <td>Barcelona</td>\n",
       "      <td>Forward</td>\n",
       "      <td>31</td>\n",
       "      <td>28</td>\n",
       "      <td>9</td>\n",
       "      <td>2</td>\n",
       "      <td>0</td>\n",
       "      <td>0</td>\n",
       "      <td>2013</td>\n",
       "    </tr>\n",
       "    <tr>\n",
       "      <th>7</th>\n",
       "      <td>Lionel Messi</td>\n",
       "      <td>Barcelona</td>\n",
       "      <td>Forward</td>\n",
       "      <td>38</td>\n",
       "      <td>43</td>\n",
       "      <td>19</td>\n",
       "      <td>4</td>\n",
       "      <td>0</td>\n",
       "      <td>0</td>\n",
       "      <td>2014</td>\n",
       "    </tr>\n",
       "    <tr>\n",
       "      <th>8</th>\n",
       "      <td>Lionel Messi</td>\n",
       "      <td>Barcelona</td>\n",
       "      <td>Forward</td>\n",
       "      <td>33</td>\n",
       "      <td>26</td>\n",
       "      <td>16</td>\n",
       "      <td>3</td>\n",
       "      <td>0</td>\n",
       "      <td>0</td>\n",
       "      <td>2015</td>\n",
       "    </tr>\n",
       "    <tr>\n",
       "      <th>9</th>\n",
       "      <td>Lionel Messi</td>\n",
       "      <td>Barcelona</td>\n",
       "      <td>Forward</td>\n",
       "      <td>34</td>\n",
       "      <td>37</td>\n",
       "      <td>9</td>\n",
       "      <td>6</td>\n",
       "      <td>0</td>\n",
       "      <td>0</td>\n",
       "      <td>2016</td>\n",
       "    </tr>\n",
       "    <tr>\n",
       "      <th>10</th>\n",
       "      <td>Lionel Messi</td>\n",
       "      <td>Barcelona</td>\n",
       "      <td>Forward</td>\n",
       "      <td>36</td>\n",
       "      <td>34</td>\n",
       "      <td>12</td>\n",
       "      <td>3</td>\n",
       "      <td>0</td>\n",
       "      <td>0</td>\n",
       "      <td>2017</td>\n",
       "    </tr>\n",
       "    <tr>\n",
       "      <th>11</th>\n",
       "      <td>Lionel Messi</td>\n",
       "      <td>Barcelona</td>\n",
       "      <td>Forward</td>\n",
       "      <td>34</td>\n",
       "      <td>36</td>\n",
       "      <td>13</td>\n",
       "      <td>3</td>\n",
       "      <td>0</td>\n",
       "      <td>0</td>\n",
       "      <td>2018</td>\n",
       "    </tr>\n",
       "    <tr>\n",
       "      <th>12</th>\n",
       "      <td>Lionel Messi</td>\n",
       "      <td>Barcelona</td>\n",
       "      <td>Forward</td>\n",
       "      <td>33</td>\n",
       "      <td>25</td>\n",
       "      <td>20</td>\n",
       "      <td>4</td>\n",
       "      <td>0</td>\n",
       "      <td>0</td>\n",
       "      <td>2019</td>\n",
       "    </tr>\n",
       "  </tbody>\n",
       "</table>\n",
       "</div>"
      ],
      "text/plain": [
       "            Name       Team Position Appearances Goals Assists Yellow  \\\n",
       "0   Lionel Messi  Barcelona  Forward          28    10       0      2   \n",
       "1   Lionel Messi  Barcelona  Forward          31    23       6      2   \n",
       "2   Lionel Messi  Barcelona  Forward          35    34       8      3   \n",
       "3   Lionel Messi  Barcelona  Forward          33    31      17      3   \n",
       "4   Lionel Messi  Barcelona  Forward          37    50      17      6   \n",
       "5   Lionel Messi  Barcelona  Forward          32    46      12      1   \n",
       "6   Lionel Messi  Barcelona  Forward          31    28       9      2   \n",
       "7   Lionel Messi  Barcelona  Forward          38    43      19      4   \n",
       "8   Lionel Messi  Barcelona  Forward          33    26      16      3   \n",
       "9   Lionel Messi  Barcelona  Forward          34    37       9      6   \n",
       "10  Lionel Messi  Barcelona  Forward          36    34      12      3   \n",
       "11  Lionel Messi  Barcelona  Forward          34    36      13      3   \n",
       "12  Lionel Messi  Barcelona  Forward          33    25      20      4   \n",
       "\n",
       "   Yellow-Red Red  Year  \n",
       "0           0   0  2007  \n",
       "1           0   0  2008  \n",
       "2           0   0  2009  \n",
       "3           0   0  2010  \n",
       "4           0   0  2011  \n",
       "5           0   0  2012  \n",
       "6           0   0  2013  \n",
       "7           0   0  2014  \n",
       "8           0   0  2015  \n",
       "9           0   0  2016  \n",
       "10          0   0  2017  \n",
       "11          0   0  2018  \n",
       "12          0   0  2019  "
      ]
     },
     "execution_count": 75,
     "metadata": {},
     "output_type": "execute_result"
    }
   ],
   "source": [
    "df_messi_data = df_laliga_years[df_laliga_years[\"Name\"] == \"Lionel Messi\"].reset_index(drop=True)\n",
    "df_messi_data"
   ]
  },
  {
   "cell_type": "code",
   "execution_count": 76,
   "metadata": {},
   "outputs": [
    {
     "data": {
      "text/html": [
       "<div>\n",
       "<style scoped>\n",
       "    .dataframe tbody tr th:only-of-type {\n",
       "        vertical-align: middle;\n",
       "    }\n",
       "\n",
       "    .dataframe tbody tr th {\n",
       "        vertical-align: top;\n",
       "    }\n",
       "\n",
       "    .dataframe thead th {\n",
       "        text-align: right;\n",
       "    }\n",
       "</style>\n",
       "<table border=\"1\" class=\"dataframe\">\n",
       "  <thead>\n",
       "    <tr style=\"text-align: right;\">\n",
       "      <th></th>\n",
       "      <th>Goals</th>\n",
       "      <th>Year</th>\n",
       "    </tr>\n",
       "  </thead>\n",
       "  <tbody>\n",
       "    <tr>\n",
       "      <th>0</th>\n",
       "      <td>10.0</td>\n",
       "      <td>2007.0</td>\n",
       "    </tr>\n",
       "    <tr>\n",
       "      <th>1</th>\n",
       "      <td>23.0</td>\n",
       "      <td>2008.0</td>\n",
       "    </tr>\n",
       "    <tr>\n",
       "      <th>2</th>\n",
       "      <td>34.0</td>\n",
       "      <td>2009.0</td>\n",
       "    </tr>\n",
       "    <tr>\n",
       "      <th>3</th>\n",
       "      <td>31.0</td>\n",
       "      <td>2010.0</td>\n",
       "    </tr>\n",
       "    <tr>\n",
       "      <th>4</th>\n",
       "      <td>50.0</td>\n",
       "      <td>2011.0</td>\n",
       "    </tr>\n",
       "    <tr>\n",
       "      <th>5</th>\n",
       "      <td>46.0</td>\n",
       "      <td>2012.0</td>\n",
       "    </tr>\n",
       "    <tr>\n",
       "      <th>6</th>\n",
       "      <td>28.0</td>\n",
       "      <td>2013.0</td>\n",
       "    </tr>\n",
       "    <tr>\n",
       "      <th>7</th>\n",
       "      <td>43.0</td>\n",
       "      <td>2014.0</td>\n",
       "    </tr>\n",
       "    <tr>\n",
       "      <th>8</th>\n",
       "      <td>26.0</td>\n",
       "      <td>2015.0</td>\n",
       "    </tr>\n",
       "    <tr>\n",
       "      <th>9</th>\n",
       "      <td>37.0</td>\n",
       "      <td>2016.0</td>\n",
       "    </tr>\n",
       "    <tr>\n",
       "      <th>10</th>\n",
       "      <td>34.0</td>\n",
       "      <td>2017.0</td>\n",
       "    </tr>\n",
       "    <tr>\n",
       "      <th>11</th>\n",
       "      <td>36.0</td>\n",
       "      <td>2018.0</td>\n",
       "    </tr>\n",
       "    <tr>\n",
       "      <th>12</th>\n",
       "      <td>25.0</td>\n",
       "      <td>2019.0</td>\n",
       "    </tr>\n",
       "  </tbody>\n",
       "</table>\n",
       "</div>"
      ],
      "text/plain": [
       "    Goals    Year\n",
       "0    10.0  2007.0\n",
       "1    23.0  2008.0\n",
       "2    34.0  2009.0\n",
       "3    31.0  2010.0\n",
       "4    50.0  2011.0\n",
       "5    46.0  2012.0\n",
       "6    28.0  2013.0\n",
       "7    43.0  2014.0\n",
       "8    26.0  2015.0\n",
       "9    37.0  2016.0\n",
       "10   34.0  2017.0\n",
       "11   36.0  2018.0\n",
       "12   25.0  2019.0"
      ]
     },
     "execution_count": 76,
     "metadata": {},
     "output_type": "execute_result"
    }
   ],
   "source": [
    "df_messi_goals = df_messi_data.drop(['Name','Team','Position','Appearances','Assists','Yellow','Yellow-Red','Red'], axis=1)\n",
    "df_messi_goals.Goals = df_messi_goals.Goals.astype(float)\n",
    "df_messi_goals.Year = df_messi_goals.Year.astype(float)\n",
    "df_messi_goals"
   ]
  },
  {
   "cell_type": "code",
   "execution_count": 77,
   "metadata": {},
   "outputs": [],
   "source": [
    "X = df_messi_goals.iloc[:, 1].values.reshape(-1, 1)  # values converts it into a numpy array\n",
    "Y = df_messi_goals.iloc[:, 0].values.reshape(-1, 1)  # -1 means that calculate the dimension of rows, but have 1 column\n",
    "linear_regressor = LinearRegression()  # create object for the class\n",
    "linear_regressor.fit(X, Y)  # perform linear regression\n",
    "Y_pred = linear_regressor.predict(X)  # make predictions"
   ]
  },
  {
   "cell_type": "code",
   "execution_count": 78,
   "metadata": {},
   "outputs": [
    {
     "data": {
      "image/png": "[encoded data removed]",
      "text/plain": [
       "<Figure size 432x288 with 1 Axes>"
      ]
     },
     "metadata": {
      "needs_background": "light"
     },
     "output_type": "display_data"
    }
   ],
   "source": [
    "plt.scatter(X, Y)\n",
    "plt.plot(X, Y_pred, color='red')\n",
    "plt.show()"
   ]
  },
  {
   "cell_type": "markdown",
   "metadata": {},
   "source": [
    "Although there are not many points, we can see that the number of goals for Lionel Messi goes on an upward trend."
   ]
  },
  {
   "cell_type": "code",
   "execution_count": null,
   "metadata": {},
   "outputs": [],
   "source": []
  }
 ],
 "metadata": {
  "kernelspec": {
   "display_name": "Python 3",
   "language": "python",
   "name": "python3"
  },
  "language_info": {
   "codemirror_mode": {
    "name": "ipython",
    "version": 3
   },
   "file_extension": ".py",
   "mimetype": "text/x-python",
   "name": "python",
   "nbconvert_exporter": "python",
   "pygments_lexer": "ipython3",
   "version": "3.6.8"
  }
 },
 "nbformat": 4,
 "nbformat_minor": 4
}
